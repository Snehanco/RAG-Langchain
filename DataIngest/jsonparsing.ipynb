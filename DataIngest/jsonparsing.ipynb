{
 "cells": [
  {
   "cell_type": "markdown",
   "id": "2f0e2d39",
   "metadata": {},
   "source": [
    "# JSON Parsing and Processing"
   ]
  },
  {
   "cell_type": "code",
   "execution_count": 1,
   "id": "1a8ea5e0",
   "metadata": {},
   "outputs": [],
   "source": [
    "import json\n",
    "import os\n",
    "\n",
    "os.makedirs('data/json_files', exist_ok=True)"
   ]
  },
  {
   "cell_type": "code",
   "execution_count": 4,
   "id": "d11106ec",
   "metadata": {},
   "outputs": [],
   "source": [
    "# Simple JSON data\n",
    "json_data = {\n",
    "    \"company\": \"TechCorp\",\n",
    "    \"employees\": [\n",
    "        {\n",
    "         \"id\": 1,\n",
    "         \"name\": \"Alice\",\n",
    "         \"role\": \"Engineer\",\n",
    "         \"skills\": [\"Python\", \"Machine Learning\", \"Data Analysis\"],\n",
    "         \"projects\": [\n",
    "             {\"name\": \"Project A\", \"duration_months\": 6 },\n",
    "             {\"name\": \"Project B\", \"duration_months\": 12 }]\n",
    "        },\n",
    "        {\n",
    "         \"id\": 2,\n",
    "         \"name\": \"Bob\",\n",
    "         \"role\": \"Designer\",\n",
    "         \"skills\": [\"UI/UX\", \"Graphic Design\"],\n",
    "         \"projects\": [\n",
    "             {\"name\": \"Project C\", \"duration_months\": 4 },\n",
    "             {\"name\": \"Project D\", \"duration_months\": 8 }]\n",
    "        },\n",
    "        {\n",
    "         \"id\": 3,\n",
    "         \"name\": \"Charlie\",\n",
    "         \"role\": \"Product Manager\",\n",
    "         \"skills\": [\"Agile\", \"Scrum\", \"Leadership\"],\n",
    "         \"projects\": [\n",
    "             {\"name\": \"Project E\", \"duration_months\": 10 },\n",
    "             {\"name\": \"Project F\", \"duration_months\": 14 }]\n",
    "        }\n",
    "    ],\n",
    "    \"departments\": {\n",
    "        \"Engineering\": {\n",
    "            \"head\": \"Diana\",\n",
    "            \"budget\": 500000\n",
    "        },\n",
    "        \"Design\": {\n",
    "            \"head\": \"Ethan\",\n",
    "            \"budget\": 200000\n",
    "        },\n",
    "        \"Product\": {\n",
    "            \"head\": \"Fiona\",\n",
    "            \"budget\": 300000\n",
    "        }\n",
    "    }\n",
    "}"
   ]
  },
  {
   "cell_type": "code",
   "execution_count": 5,
   "id": "b9826737",
   "metadata": {},
   "outputs": [
    {
     "data": {
      "text/plain": [
       "{'company': 'TechCorp',\n",
       " 'employees': [{'id': 1,\n",
       "   'name': 'Alice',\n",
       "   'role': 'Engineer',\n",
       "   'skills': ['Python', 'Machine Learning', 'Data Analysis'],\n",
       "   'projects': [{'name': 'Project A', 'duration_months': 6},\n",
       "    {'name': 'Project B', 'duration_months': 12}]},\n",
       "  {'id': 2,\n",
       "   'name': 'Bob',\n",
       "   'role': 'Designer',\n",
       "   'skills': ['UI/UX', 'Graphic Design'],\n",
       "   'projects': [{'name': 'Project C', 'duration_months': 4},\n",
       "    {'name': 'Project D', 'duration_months': 8}]},\n",
       "  {'id': 3,\n",
       "   'name': 'Charlie',\n",
       "   'role': 'Product Manager',\n",
       "   'skills': ['Agile', 'Scrum', 'Leadership'],\n",
       "   'projects': [{'name': 'Project E', 'duration_months': 10},\n",
       "    {'name': 'Project F', 'duration_months': 14}]}],\n",
       " 'departments': {'Engineering': {'head': 'Diana', 'budget': 500000},\n",
       "  'Design': {'head': 'Ethan', 'budget': 200000},\n",
       "  'Product': {'head': 'Fiona', 'budget': 300000}}}"
      ]
     },
     "execution_count": 5,
     "metadata": {},
     "output_type": "execute_result"
    }
   ],
   "source": [
    "json_data"
   ]
  },
  {
   "cell_type": "code",
   "execution_count": 6,
   "id": "d953b785",
   "metadata": {},
   "outputs": [],
   "source": [
    "with open('data/json_files/company_data.json', 'w') as f:\n",
    "    json.dump(json_data, f, indent=2)"
   ]
  },
  {
   "cell_type": "code",
   "execution_count": 7,
   "id": "906596d0",
   "metadata": {},
   "outputs": [],
   "source": [
    "# Save JSON Lines Format\n",
    "jsonl_data = [\n",
    "    {\"timestamp\": \"2024-01-01T10:00:00Z\", \"event\": \"login\", \"user_id\": 101},\n",
    "    {\"timestamp\": \"2024-01-01T10:05:00Z\", \"event\": \"view_page\", \"user_id\": 101, \"page\": \"/homepage\"},\n",
    "    {\"timestamp\": \"2024-01-01T10:10:00Z\", \"event\": \"logout\", \"user_id\": 101}\n",
    "]\n",
    "\n",
    "with open('data/json_files/user_events.jsonl', 'w') as f:\n",
    "    for entry in jsonl_data:\n",
    "        f.write(json.dumps(entry) + '\\n')"
   ]
  },
  {
   "cell_type": "markdown",
   "id": "e9955f8f",
   "metadata": {},
   "source": [
    "# JSON processing strategies"
   ]
  },
  {
   "cell_type": "code",
   "execution_count": null,
   "id": "d3fb015b",
   "metadata": {},
   "outputs": [
    {
     "name": "stdout",
     "output_type": "stream",
     "text": [
      "JSONLoader - Extract specific fields\n",
      "Loaded 3 employee documents.\n",
      "First employee: {\"id\": 1, \"name\": \"Alice\", \"role\": \"Engineer\", \"skills\": [\"Python\", \"Machine Learning\", \"Data Analysis\"], \"projects\": [{\"name\": \"Project A\", \"duration_months\": 6}, {\"name\": \"Project B\", \"duration_mont\n"
     ]
    }
   ],
   "source": [
    "from langchain_community.document_loaders import JSONLoader\n",
    "import json\n",
    "\n",
    "# JSONloader with jq_schema\n",
    "print(\"JSONLoader - Extract specific fields\")\n",
    "\n",
    "employee_loader = JSONLoader(\n",
    "    file_path='data/json_files/company_data.json',\n",
    "    jq_schema='.employees[]',  # jq query to extract each employee object\n",
    "    text_content=False  # Treat content as structured data\n",
    ")\n",
    "\n",
    "employee_docs = employee_loader.load()\n",
    "print(f\"Loaded {len(employee_docs)} employee documents.\")\n",
    "print(f\"First employee: {employee_docs[0].page_content[:200]}\")"
   ]
  },
  {
   "cell_type": "code",
   "execution_count": 14,
   "id": "5e764821",
   "metadata": {},
   "outputs": [],
   "source": [
    "# Custom JSON parsing function\n",
    "\n",
    "from typing import List\n",
    "from langchain_core.documents import Document\n",
    "\n",
    "def process_json_intelligently(file_path: str) -> List[Document]:\n",
    "    \"\"\"Process JSON file intelligently based on its structure.\"\"\"\n",
    "    with open(file_path, 'r') as f:\n",
    "        data = json.load(f)\n",
    "\n",
    "    documents = []\n",
    "\n",
    "    for emp in data.get('employees', []):\n",
    "        content = f\"Name: {emp['name']}\\nRole: {emp['role']}\\nSkills: {', '.join(emp['skills'])}\\n\"\n",
    "        project_details = \"\\n\".join([f\"- {proj['name']} ({proj['duration_months']} months)\" for proj in emp.get('projects', [])])\n",
    "        content += f\"Projects:\\n{project_details}\\n\"\n",
    "        # documents.append(Document(page_content=content))\n",
    "        doc = Document(page_content=content,\n",
    "                       metadata={\n",
    "                           \"source\": file_path,\n",
    "                           \"data_type\": \"employee_record\",\n",
    "                           \"employee_id\": emp['id'],\n",
    "                           \"employee_name\": emp['name'],\n",
    "                           \"role\": emp['role']\n",
    "                       }\n",
    "                 )   \n",
    "        documents.append(doc)      \n",
    "\n",
    "    return documents\n"
   ]
  },
  {
   "cell_type": "code",
   "execution_count": 15,
   "id": "c0690d93",
   "metadata": {},
   "outputs": [
    {
     "data": {
      "text/plain": [
       "[Document(metadata={'source': 'data/json_files/company_data.json', 'data_type': 'employee_record', 'employee_id': 1, 'employee_name': 'Alice', 'role': 'Engineer'}, page_content='Name: Alice\\nRole: Engineer\\nSkills: Python, Machine Learning, Data Analysis\\nProjects:\\n- Project A (6 months)\\n- Project B (12 months)\\n'),\n",
       " Document(metadata={'source': 'data/json_files/company_data.json', 'data_type': 'employee_record', 'employee_id': 2, 'employee_name': 'Bob', 'role': 'Designer'}, page_content='Name: Bob\\nRole: Designer\\nSkills: UI/UX, Graphic Design\\nProjects:\\n- Project C (4 months)\\n- Project D (8 months)\\n'),\n",
       " Document(metadata={'source': 'data/json_files/company_data.json', 'data_type': 'employee_record', 'employee_id': 3, 'employee_name': 'Charlie', 'role': 'Product Manager'}, page_content='Name: Charlie\\nRole: Product Manager\\nSkills: Agile, Scrum, Leadership\\nProjects:\\n- Project E (10 months)\\n- Project F (14 months)\\n')]"
      ]
     },
     "execution_count": 15,
     "metadata": {},
     "output_type": "execute_result"
    }
   ],
   "source": [
    "process_json_intelligently('data/json_files/company_data.json')"
   ]
  }
 ],
 "metadata": {
  "kernelspec": {
   "display_name": "RAGUdemy",
   "language": "python",
   "name": "python3"
  },
  "language_info": {
   "codemirror_mode": {
    "name": "ipython",
    "version": 3
   },
   "file_extension": ".py",
   "mimetype": "text/x-python",
   "name": "python",
   "nbconvert_exporter": "python",
   "pygments_lexer": "ipython3",
   "version": "3.11.9"
  }
 },
 "nbformat": 4,
 "nbformat_minor": 5
}
