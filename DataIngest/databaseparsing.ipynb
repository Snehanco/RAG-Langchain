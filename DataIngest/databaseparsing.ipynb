{
 "cells": [
  {
   "cell_type": "markdown",
   "id": "9bbbff23",
   "metadata": {},
   "source": [
    "# SQL Databases"
   ]
  },
  {
   "cell_type": "code",
   "execution_count": 1,
   "id": "fe980a8b",
   "metadata": {},
   "outputs": [],
   "source": [
    "import sqlite3\n",
    "import os\n",
    "\n",
    "os.makedirs('data/databases', exist_ok=True)"
   ]
  },
  {
   "cell_type": "code",
   "execution_count": 2,
   "id": "220be6f0",
   "metadata": {},
   "outputs": [],
   "source": [
    "## create a sample SQLite database\n",
    "conn = sqlite3.connect('data/databases/company.db')\n",
    "cursor = conn.cursor()"
   ]
  },
  {
   "cell_type": "code",
   "execution_count": 3,
   "id": "7a9504d5",
   "metadata": {},
   "outputs": [
    {
     "data": {
      "text/plain": [
       "<sqlite3.Cursor at 0x23ec7c438c0>"
      ]
     },
     "execution_count": 3,
     "metadata": {},
     "output_type": "execute_result"
    }
   ],
   "source": [
    "# Create tables\n",
    "cursor.execute('''CREATE TABLE IF NOT EXISTS employees \n",
    "                   (id INTEGER PRIMARY KEY, name TEXT, role TEXT, department TEXT, salary REAL)''')"
   ]
  },
  {
   "cell_type": "code",
   "execution_count": 4,
   "id": "b97e508f",
   "metadata": {},
   "outputs": [
    {
     "data": {
      "text/plain": [
       "<sqlite3.Cursor at 0x23ec7c438c0>"
      ]
     },
     "execution_count": 4,
     "metadata": {},
     "output_type": "execute_result"
    }
   ],
   "source": [
    "cursor.execute('''CREATE TABLE IF NOT EXISTS projects \n",
    "                   (id INTEGER PRIMARY KEY, name TEXT, status TEXT, budget REAL, lead_id INTEGER)''')"
   ]
  },
  {
   "cell_type": "code",
   "execution_count": 5,
   "id": "a87a284c",
   "metadata": {},
   "outputs": [],
   "source": [
    "# Insert sample data \n",
    "employees_data = [\n",
    "    (1, 'Alice Johnson', 'Software Engineer', 'Development', 90000),\n",
    "    (2, 'Bob Smith', 'Data Scientist', 'Analytics', 95000),\n",
    "    (3, 'Charlie Brown', 'Product Manager', 'Product', 105000),\n",
    "    (4, 'Diana Prince', 'UX Designer', 'Design', 85000)\n",
    "]\n",
    "\n",
    "projects_data = [\n",
    "    (1, 'Project Alpha', 'In Progress', 150000, 3),\n",
    "    (2, 'Project Beta', 'Completed', 200000, 1),\n",
    "    (3, 'Project Gamma', 'Planned', 300000, 4),\n",
    "    (4, 'Project Delta', 'In Progress', 250000, 2)\n",
    "]"
   ]
  },
  {
   "cell_type": "code",
   "execution_count": 6,
   "id": "e47e01ac",
   "metadata": {},
   "outputs": [
    {
     "data": {
      "text/plain": [
       "<sqlite3.Cursor at 0x23ec7c438c0>"
      ]
     },
     "execution_count": 6,
     "metadata": {},
     "output_type": "execute_result"
    }
   ],
   "source": [
    "cursor.executemany('INSERT INTO employees VALUES (?,?,?,?,?)', employees_data)\n",
    "cursor.executemany('INSERT INTO projects VALUES (?,?,?,?,?)', projects_data)"
   ]
  },
  {
   "cell_type": "code",
   "execution_count": 7,
   "id": "8a2d9bda",
   "metadata": {},
   "outputs": [
    {
     "data": {
      "text/plain": [
       "<sqlite3.Cursor at 0x23ec7c438c0>"
      ]
     },
     "execution_count": 7,
     "metadata": {},
     "output_type": "execute_result"
    }
   ],
   "source": [
    "cursor.execute('SELECT * FROM employees')"
   ]
  },
  {
   "cell_type": "code",
   "execution_count": 8,
   "id": "a1379580",
   "metadata": {},
   "outputs": [],
   "source": [
    "conn.commit()\n",
    "conn.close()"
   ]
  },
  {
   "cell_type": "markdown",
   "id": "a6e5c4fd",
   "metadata": {},
   "source": [
    "# Database Content Extraction"
   ]
  },
  {
   "cell_type": "code",
   "execution_count": 9,
   "id": "acaa2daa",
   "metadata": {},
   "outputs": [
    {
     "name": "stderr",
     "output_type": "stream",
     "text": [
      "d:\\RAG\\RAG-Langchain\\.venv\\Lib\\site-packages\\tqdm\\auto.py:21: TqdmWarning: IProgress not found. Please update jupyter and ipywidgets. See https://ipywidgets.readthedocs.io/en/stable/user_install.html\n",
      "  from .autonotebook import tqdm as notebook_tqdm\n"
     ]
    }
   ],
   "source": [
    "from langchain_community.document_loaders import SQLDatabaseLoader\n",
    "from langchain_community.utilities import SQLDatabase"
   ]
  },
  {
   "cell_type": "code",
   "execution_count": 10,
   "id": "e2dcd9f6",
   "metadata": {},
   "outputs": [
    {
     "name": "stdout",
     "output_type": "stream",
     "text": [
      "Tables: ['employees', 'projects']\n",
      "\n",
      "DDL\n",
      "Table Info: \n",
      "CREATE TABLE employees (\n",
      "\tid INTEGER, \n",
      "\tname TEXT, \n",
      "\trole TEXT, \n",
      "\tdepartment TEXT, \n",
      "\tsalary REAL, \n",
      "\tPRIMARY KEY (id)\n",
      ")\n",
      "\n",
      "/*\n",
      "3 rows from employees table:\n",
      "id\tname\trole\tdepartment\tsalary\n",
      "1\tAlice Johnson\tSoftware Engineer\tDevelopment\t90000.0\n",
      "2\tBob Smith\tData Scientist\tAnalytics\t95000.0\n",
      "3\tCharlie Brown\tProduct Manager\tProduct\t105000.0\n",
      "*/\n",
      "\n",
      "\n",
      "CREATE TABLE projects (\n",
      "\tid INTEGER, \n",
      "\tname TEXT, \n",
      "\tstatus TEXT, \n",
      "\tbudget REAL, \n",
      "\tlead_id INTEGER, \n",
      "\tPRIMARY KEY (id)\n",
      ")\n",
      "\n",
      "/*\n",
      "3 rows from projects table:\n",
      "id\tname\tstatus\tbudget\tlead_id\n",
      "1\tProject Alpha\tIn Progress\t150000.0\t3\n",
      "2\tProject Beta\tCompleted\t200000.0\t1\n",
      "3\tProject Gamma\tPlanned\t300000.0\t4\n",
      "*/\n"
     ]
    }
   ],
   "source": [
    "# Method 1 SQLDatabase Utility\n",
    "db = SQLDatabase.from_uri(\"sqlite:///data/databases/company.db\")\n",
    "\n",
    "## get database info\n",
    "print(f\"Tables: {db.get_usable_table_names()}\")\n",
    "print(\"\\nDDL\")\n",
    "print(f\"Table Info: {db.get_table_info()}\")"
   ]
  },
  {
   "cell_type": "code",
   "execution_count": 13,
   "id": "1a056aef",
   "metadata": {},
   "outputs": [
    {
     "name": "stdout",
     "output_type": "stream",
     "text": [
      "\n",
      "Custom SQL Processing:\n",
      "\n"
     ]
    }
   ],
   "source": [
    "from typing import List\n",
    "from langchain_core.documents import Document\n",
    "\n",
    "print(\"\\nCustom SQL Processing:\\n\")\n",
    "\n",
    "def sql_to_docs(db_path: str) -> List[Document]:\n",
    "    \"\"\"Convert SQL DB to a list of Documents with context\"\"\"\n",
    "    conn = sqlite3.connect(db_path)\n",
    "    cursor = conn.cursor()\n",
    "    documents = []\n",
    "    # Strategy 1 \" Create documents for each table\"\n",
    "    cursor.execute(\"SELECT name FROM sqlite_master WHERE type='table';\")\n",
    "    tables = cursor.fetchall()\n",
    "\n",
    "    for table in tables:\n",
    "        table_name = table[0]\n",
    "\n",
    "        # Get Table Schema\n",
    "        cursor.execute(f\"PRAGMA table_info({table_name});\")\n",
    "        columns = cursor.fetchall()\n",
    "        # print(columns)\n",
    "        column_names = [col[1] for col in columns]\n",
    "\n",
    "        # Get Table Data\n",
    "        cursor.execute(f\"SELECT * FROM {table_name};\")\n",
    "        rows = cursor.fetchall()\n",
    "\n",
    "        # Create Table Overview Document\n",
    "        table_content = f\"Table: {table_name}\\nColumns: {', '.join(column_names)}\\nNumber of rows: {len(rows)}\\n\\nSample Data:\\n\"\n",
    "\n",
    "        for row in rows:\n",
    "            record = dict(zip(column_names, row))\n",
    "            table_content += f\"{record}\\n\"\n",
    "            \n",
    "        doc = Document(page_content=table_content, metadata={\"source\": db_path, \"table\": table_name, 'num_records': len(rows), 'data_type': 'sql_table'})\n",
    "\n",
    "        documents.append(doc)\n",
    "    \n",
    "    # Strategy 2: Create relationship documents\n",
    "    cursor.execute(\"\"\"SELECT e.name, e.role, p.name as project_name, p.status\n",
    "                      FROM employees e\n",
    "                      JOIN projects p ON e.id = p.lead_id;\"\"\")\n",
    "    relations = cursor.fetchall()\n",
    "    relation_content = \"Employee-Project Relationships:\\n\"\n",
    "    for relation in relations:\n",
    "        relation_content += f\"Employee: {relation[0]}, Role: {relation[1]}, Project: {relation[2]}, Status: {relation[3]}\\n\"\n",
    "\n",
    "    rel_doc = Document(page_content=relation_content, metadata={\"source\": db_path, \"data_type\": \"sql_relationships\", 'query': 'employee_project_join'})\n",
    "    documents.append(rel_doc)\n",
    "    \n",
    "    conn.close()\n",
    "    return documents"
   ]
  },
  {
   "cell_type": "code",
   "execution_count": 14,
   "id": "00e66fe6",
   "metadata": {},
   "outputs": [
    {
     "data": {
      "text/plain": [
       "[Document(metadata={'source': 'data/databases/company.db', 'table': 'employees', 'num_records': 4, 'data_type': 'sql_table'}, page_content=\"Table: employees\\nColumns: id, name, role, department, salary\\nNumber of rows: 4\\n\\nSample Data:\\n{'id': 1, 'name': 'Alice Johnson', 'role': 'Software Engineer', 'department': 'Development', 'salary': 90000.0}\\n{'id': 2, 'name': 'Bob Smith', 'role': 'Data Scientist', 'department': 'Analytics', 'salary': 95000.0}\\n{'id': 3, 'name': 'Charlie Brown', 'role': 'Product Manager', 'department': 'Product', 'salary': 105000.0}\\n{'id': 4, 'name': 'Diana Prince', 'role': 'UX Designer', 'department': 'Design', 'salary': 85000.0}\\n\"),\n",
       " Document(metadata={'source': 'data/databases/company.db', 'table': 'projects', 'num_records': 4, 'data_type': 'sql_table'}, page_content=\"Table: projects\\nColumns: id, name, status, budget, lead_id\\nNumber of rows: 4\\n\\nSample Data:\\n{'id': 1, 'name': 'Project Alpha', 'status': 'In Progress', 'budget': 150000.0, 'lead_id': 3}\\n{'id': 2, 'name': 'Project Beta', 'status': 'Completed', 'budget': 200000.0, 'lead_id': 1}\\n{'id': 3, 'name': 'Project Gamma', 'status': 'Planned', 'budget': 300000.0, 'lead_id': 4}\\n{'id': 4, 'name': 'Project Delta', 'status': 'In Progress', 'budget': 250000.0, 'lead_id': 2}\\n\"),\n",
       " Document(metadata={'source': 'data/databases/company.db', 'data_type': 'sql_relationships', 'query': 'employee_project_join'}, page_content='Employee-Project Relationships:\\nEmployee: Charlie Brown, Role: Product Manager, Project: Project Alpha, Status: In Progress\\nEmployee: Alice Johnson, Role: Software Engineer, Project: Project Beta, Status: Completed\\nEmployee: Diana Prince, Role: UX Designer, Project: Project Gamma, Status: Planned\\nEmployee: Bob Smith, Role: Data Scientist, Project: Project Delta, Status: In Progress\\n')]"
      ]
     },
     "execution_count": 14,
     "metadata": {},
     "output_type": "execute_result"
    }
   ],
   "source": [
    "sql_to_docs('data/databases/company.db')"
   ]
  }
 ],
 "metadata": {
  "kernelspec": {
   "display_name": "RAGUdemy",
   "language": "python",
   "name": "python3"
  },
  "language_info": {
   "codemirror_mode": {
    "name": "ipython",
    "version": 3
   },
   "file_extension": ".py",
   "mimetype": "text/x-python",
   "name": "python",
   "nbconvert_exporter": "python",
   "pygments_lexer": "ipython3",
   "version": "3.11.9"
  }
 },
 "nbformat": 4,
 "nbformat_minor": 5
}
