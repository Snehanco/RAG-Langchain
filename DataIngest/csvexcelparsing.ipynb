{
 "cells": [
  {
   "cell_type": "markdown",
   "id": "c560d1f8",
   "metadata": {},
   "source": [
    "# CSV and Excel Files - Structured Data"
   ]
  },
  {
   "cell_type": "code",
   "execution_count": 1,
   "id": "63eeffd7",
   "metadata": {},
   "outputs": [],
   "source": [
    "import pandas as pd\n",
    "import os"
   ]
  },
  {
   "cell_type": "code",
   "execution_count": 2,
   "id": "c3e5a944",
   "metadata": {},
   "outputs": [],
   "source": [
    "os.makedirs('data/structured_files', exist_ok=True)"
   ]
  },
  {
   "cell_type": "code",
   "execution_count": 3,
   "id": "8227fef8",
   "metadata": {},
   "outputs": [],
   "source": [
    "# Create Sample data\n",
    "data = {\n",
    "    'Name': ['Alice', 'Bob', 'Charlie'],   \n",
    "    'Age': [25, 30, 35],\n",
    "    'City': ['New York', 'Los Angeles', 'Chicago']\n",
    "}\n",
    "\n",
    "df = pd.DataFrame(data)\n",
    "df.to_csv('data/structured_files/sample_data.csv', index=False)"
   ]
  },
  {
   "cell_type": "code",
   "execution_count": 6,
   "id": "e44d252b",
   "metadata": {},
   "outputs": [],
   "source": [
    "# Save as excel with multiple sheets\n",
    "with pd.ExcelWriter('data/structured_files/sample_data.xlsx') as writer:\n",
    "    df.to_excel(writer, sheet_name='People', index=False)\n",
    "    summary_data = {\n",
    "        'Category': ['A', 'B', 'C'],\n",
    "        'Value': [100, 200, 300]\n",
    "    }\n",
    "    pd.DataFrame(summary_data).to_excel(writer, sheet_name='Summary', index=False)"
   ]
  },
  {
   "cell_type": "markdown",
   "id": "94942dcc",
   "metadata": {},
   "source": [
    "# CSV Processing"
   ]
  },
  {
   "cell_type": "code",
   "execution_count": 7,
   "id": "32dc985b",
   "metadata": {},
   "outputs": [
    {
     "name": "stderr",
     "output_type": "stream",
     "text": [
      "d:\\RAG\\RAG-Langchain\\.venv\\Lib\\site-packages\\tqdm\\auto.py:21: TqdmWarning: IProgress not found. Please update jupyter and ipywidgets. See https://ipywidgets.readthedocs.io/en/stable/user_install.html\n",
      "  from .autonotebook import tqdm as notebook_tqdm\n"
     ]
    }
   ],
   "source": [
    "from langchain_community.document_loaders import CSVLoader, UnstructuredCSVLoader"
   ]
  },
  {
   "cell_type": "code",
   "execution_count": 10,
   "id": "8f57440b",
   "metadata": {},
   "outputs": [
    {
     "name": "stdout",
     "output_type": "stream",
     "text": [
      "Using CSVLoader - Row-based parsing\n",
      "[Document(metadata={'source': 'data/structured_files/sample_data.csv', 'row': 0}, page_content='Name: Alice\\nAge: 25\\nCity: New York'), Document(metadata={'source': 'data/structured_files/sample_data.csv', 'row': 1}, page_content='Name: Bob\\nAge: 30\\nCity: Los Angeles'), Document(metadata={'source': 'data/structured_files/sample_data.csv', 'row': 2}, page_content='Name: Charlie\\nAge: 35\\nCity: Chicago')]\n",
      "Loaded 3 documents using CSVLoader.(Each row is a document)\n",
      "\n",
      "First document:\n",
      "Content:\n",
      "Name: Alice\n",
      "Age: 25\n",
      "City: New York\n",
      "Metadata: {'source': 'data/structured_files/sample_data.csv', 'row': 0}\n"
     ]
    }
   ],
   "source": [
    "# Method 1: Using CSVLoader - Each row becomes a separate document\n",
    "print(\"Using CSVLoader - Row-based parsing\")\n",
    "csv_loader = CSVLoader(file_path='data/structured_files/sample_data.csv', \n",
    "                       encoding='utf-8', \n",
    "                       csv_args={'delimiter': ',', \n",
    "                                 'quotechar': '\"'})\n",
    "\n",
    "csv_docs = csv_loader.load()\n",
    "print(csv_docs)\n",
    "print(f\"Loaded {len(csv_docs)} documents using CSVLoader.(Each row is a document)\")\n",
    "print(\"\\nFirst document:\")\n",
    "print(f\"Content:\\n{csv_docs[0].page_content}\")\n",
    "print(f\"Metadata: {csv_docs[0].metadata}\")"
   ]
  },
  {
   "cell_type": "code",
   "execution_count": 12,
   "id": "0f68e89e",
   "metadata": {},
   "outputs": [
    {
     "name": "stdout",
     "output_type": "stream",
     "text": [
      "{'\\n Custom CSV Processing'}\n"
     ]
    }
   ],
   "source": [
    "from typing import List\n",
    "from langchain_core.documents import Document\n",
    "\n",
    "## Method 2: Custom CSV processing for better control\n",
    "print({\"\\n Custom CSV Processing\"})\n",
    "def process_csv_intelligently(file_path: str) -> List[Document]:\n",
    "    df = pd.read_csv(file_path)\n",
    "    documents = []\n",
    "\n",
    "    for index, row in df.iterrows():\n",
    "        content = f\"\"\"Information:\n",
    "        Name: {row['Name']}\n",
    "        Age: {row['Age']}\n",
    "        City: {row['City']}\n",
    "        \"\"\"\n",
    "        # Create document with metadata\n",
    "        doc = Document(\n",
    "            page_content=content,\n",
    "            metadata={\n",
    "                'source': file_path,\n",
    "                'row_index': index,\n",
    "                'name': row['Name'],\n",
    "                'data_type': 'person_info'\n",
    "            }\n",
    "        )\n",
    "        documents.append(doc)\n",
    "    return documents"
   ]
  },
  {
   "cell_type": "code",
   "execution_count": 13,
   "id": "13241c1b",
   "metadata": {},
   "outputs": [
    {
     "data": {
      "text/plain": [
       "[Document(metadata={'source': 'data/structured_files/sample_data.csv', 'row_index': 0, 'name': 'Alice', 'data_type': 'person_info'}, page_content='Information:\\n        Name: Alice\\n        Age: 25\\n        City: New York\\n        '),\n",
       " Document(metadata={'source': 'data/structured_files/sample_data.csv', 'row_index': 1, 'name': 'Bob', 'data_type': 'person_info'}, page_content='Information:\\n        Name: Bob\\n        Age: 30\\n        City: Los Angeles\\n        '),\n",
       " Document(metadata={'source': 'data/structured_files/sample_data.csv', 'row_index': 2, 'name': 'Charlie', 'data_type': 'person_info'}, page_content='Information:\\n        Name: Charlie\\n        Age: 35\\n        City: Chicago\\n        ')]"
      ]
     },
     "execution_count": 13,
     "metadata": {},
     "output_type": "execute_result"
    }
   ],
   "source": [
    "process_csv_intelligently('data/structured_files/sample_data.csv')"
   ]
  },
  {
   "cell_type": "markdown",
   "id": "aeb6fd0f",
   "metadata": {},
   "source": [
    "# Excel Processing"
   ]
  },
  {
   "cell_type": "code",
   "execution_count": 16,
   "id": "65177c58",
   "metadata": {},
   "outputs": [
    {
     "data": {
      "text/plain": [
       "[Document(metadata={'source': 'data/structured_files/sample_data.xlsx', 'file_directory': 'data/structured_files', 'filename': 'sample_data.xlsx', 'last_modified': '2025-10-24T13:55:05', 'page_name': 'People', 'page_number': 1, 'text_as_html': '<table><tr><td>Name</td><td>Age</td><td>City</td></tr><tr><td>Alice</td><td>25</td><td>New York</td></tr><tr><td>Bob</td><td>30</td><td>Los Angeles</td></tr><tr><td>Charlie</td><td>35</td><td>Chicago</td></tr></table>', 'languages': ['eng'], 'filetype': 'application/vnd.openxmlformats-officedocument.spreadsheetml.sheet', 'category': 'Table', 'element_id': 'c81e766b3ae368e11fa7d14da551dea7'}, page_content='Name Age City Alice 25 New York Bob 30 Los Angeles Charlie 35 Chicago'),\n",
       " Document(metadata={'source': 'data/structured_files/sample_data.xlsx', 'file_directory': 'data/structured_files', 'filename': 'sample_data.xlsx', 'last_modified': '2025-10-24T13:55:05', 'page_name': 'Summary', 'page_number': 2, 'text_as_html': '<table><tr><td>Category</td><td>Value</td></tr><tr><td>A</td><td>100</td></tr><tr><td>B</td><td>200</td></tr><tr><td>C</td><td>300</td></tr></table>', 'languages': ['eng'], 'filetype': 'application/vnd.openxmlformats-officedocument.spreadsheetml.sheet', 'category': 'Table', 'element_id': '5960916122e6deddb33ba29f136fe8dc'}, page_content='Category Value A 100 B 200 C 300')]"
      ]
     },
     "execution_count": 16,
     "metadata": {},
     "output_type": "execute_result"
    }
   ],
   "source": [
    "from langchain_community.document_loaders import UnstructuredExcelLoader\n",
    "\n",
    "try:\n",
    "    excel_loader = UnstructuredExcelLoader(file_path='data/structured_files/sample_data.xlsx',\n",
    "                                           mode='elements')\n",
    "    excel_docs = excel_loader.load()\n",
    "except Exception as e:\n",
    "    print(f\"Error loading Excel file: {e}\")\n",
    "    excel_docs = []\n",
    "\n",
    "excel_docs"
   ]
  }
 ],
 "metadata": {
  "kernelspec": {
   "display_name": "RAGUdemy",
   "language": "python",
   "name": "python3"
  },
  "language_info": {
   "codemirror_mode": {
    "name": "ipython",
    "version": 3
   },
   "file_extension": ".py",
   "mimetype": "text/x-python",
   "name": "python",
   "nbconvert_exporter": "python",
   "pygments_lexer": "ipython3",
   "version": "3.11.9"
  }
 },
 "nbformat": 4,
 "nbformat_minor": 5
}
