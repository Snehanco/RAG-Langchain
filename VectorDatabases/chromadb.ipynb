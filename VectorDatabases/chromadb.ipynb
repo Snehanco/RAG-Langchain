{
 "cells": [
  {
   "cell_type": "markdown",
   "id": "1d16fc8f",
   "metadata": {},
   "source": [
    "## Build a RAG System with Langchain and ChromaDB"
   ]
  },
  {
   "cell_type": "code",
   "execution_count": 1,
   "id": "91599138",
   "metadata": {},
   "outputs": [
    {
     "data": {
      "text/plain": [
       "True"
      ]
     },
     "execution_count": 1,
     "metadata": {},
     "output_type": "execute_result"
    }
   ],
   "source": [
    "import os\n",
    "from dotenv import load_dotenv\n",
    "load_dotenv()"
   ]
  },
  {
   "cell_type": "code",
   "execution_count": 2,
   "id": "f7c0e21f",
   "metadata": {},
   "outputs": [
    {
     "name": "stderr",
     "output_type": "stream",
     "text": [
      "d:\\RAG\\RAG-Langchain\\.venv\\Lib\\site-packages\\tqdm\\auto.py:21: TqdmWarning: IProgress not found. Please update jupyter and ipywidgets. See https://ipywidgets.readthedocs.io/en/stable/user_install.html\n",
      "  from .autonotebook import tqdm as notebook_tqdm\n"
     ]
    }
   ],
   "source": [
    "# Langchain Imports\n",
    "\n",
    "from langchain_text_splitters import RecursiveCharacterTextSplitter\n",
    "from langchain_community.document_loaders import TextLoader\n",
    "from langchain_huggingface import HuggingFaceEmbeddings\n",
    "from langchain_core.documents import Document\n",
    "\n",
    "# vector stores\n",
    "from langchain_community.vectorstores import Chroma\n",
    "\n",
    "# Utility imports\n",
    "import numpy as np\n",
    "from typing import List"
   ]
  },
  {
   "cell_type": "code",
   "execution_count": 3,
   "id": "abcfeda2",
   "metadata": {},
   "outputs": [
    {
     "data": {
      "text/plain": [
       "['\\n    Machine Learning Fundamentals\\n\\n    Machine learning is a subset of artificial intelligence that focuses on building systems that can learn from and make decisions based on data. It involves various algorithms and statistical models that enable computers to perform specific tasks without explicit instructions. The key types of machine learning include supervised learning, unsupervised learning, and reinforcement learning. Supervised learning uses labeled data to train models, while unsupervised learning finds patterns in unlabeled data. Reinforcement learning involves training agents to make sequences of decisions by rewarding desired behaviors. Applications of machine learning span across various industries, including healthcare, finance, marketing, and more. Common algorithms used in machine learning include decision trees, support vector machines, neural networks, and clustering techniques. As the field continues to evolve, advancements in deep learning and neural networks are driving significant progress in areas such as computer vision, natural language processing, and autonomous systems.\\n    ',\n",
       " '\\n    Natural Language Processing (NLP)\\n\\n    Natural Language Processing (NLP) is a branch of artificial intelligence that focuses on the interaction between computers and human language. It involves the development of algorithms and models that enable machines to understand, interpret, and generate human language in a way that is meaningful. NLP encompasses various tasks such as text classification, sentiment analysis, named entity recognition, machine translation, and speech recognition. Techniques used in NLP include tokenization, part-of-speech tagging, syntactic parsing, and semantic analysis. Recent advancements in NLP have been driven by deep learning models such as transformers, which have significantly improved the performance of language models like BERT and GPT. Applications of NLP are widespread, including chatbots, virtual assistants, automated customer support, and content recommendation systems. As NLP continues to advance, it plays a crucial role in enhancing human-computer interaction and enabling more natural communication with technology.\\n    ',\n",
       " '\\n    Deep Learning and Neural Networks\\n\\n    Deep learning is a subset of machine learning that focuses on using neural networks with multiple layers to model complex patterns in data. Neural networks are inspired by the structure and function of the human brain, consisting of interconnected nodes (neurons) that process information. Deep learning has revolutionized various fields, including computer vision, natural language processing, and speech recognition, by enabling the development of models that can automatically learn hierarchical representations of data. Key architectures in deep learning include convolutional neural networks (CNNs) for image processing, recurrent neural networks (RNNs) for sequential data, and transformers for language modeling. Training deep learning models typically requires large datasets and significant computational resources, often utilizing GPUs for efficient processing. The success of deep learning has led to breakthroughs in applications such as autonomous vehicles, medical image analysis, and real-time language translation. As research continues, deep learning is expected to drive further innovations in artificial intelligence and its applications across various domains.\\n    ']"
      ]
     },
     "execution_count": 3,
     "metadata": {},
     "output_type": "execute_result"
    }
   ],
   "source": [
    "sample_docs = [\n",
    "    \"\"\"\n",
    "    Machine Learning Fundamentals\n",
    "\n",
    "    Machine learning is a subset of artificial intelligence that focuses on building systems that can learn from and make decisions based on data. It involves various algorithms and statistical models that enable computers to perform specific tasks without explicit instructions. The key types of machine learning include supervised learning, unsupervised learning, and reinforcement learning. Supervised learning uses labeled data to train models, while unsupervised learning finds patterns in unlabeled data. Reinforcement learning involves training agents to make sequences of decisions by rewarding desired behaviors. Applications of machine learning span across various industries, including healthcare, finance, marketing, and more. Common algorithms used in machine learning include decision trees, support vector machines, neural networks, and clustering techniques. As the field continues to evolve, advancements in deep learning and neural networks are driving significant progress in areas such as computer vision, natural language processing, and autonomous systems.\n",
    "    \"\"\",\n",
    "\n",
    "    \"\"\"\n",
    "    Natural Language Processing (NLP)\n",
    "\n",
    "    Natural Language Processing (NLP) is a branch of artificial intelligence that focuses on the interaction between computers and human language. It involves the development of algorithms and models that enable machines to understand, interpret, and generate human language in a way that is meaningful. NLP encompasses various tasks such as text classification, sentiment analysis, named entity recognition, machine translation, and speech recognition. Techniques used in NLP include tokenization, part-of-speech tagging, syntactic parsing, and semantic analysis. Recent advancements in NLP have been driven by deep learning models such as transformers, which have significantly improved the performance of language models like BERT and GPT. Applications of NLP are widespread, including chatbots, virtual assistants, automated customer support, and content recommendation systems. As NLP continues to advance, it plays a crucial role in enhancing human-computer interaction and enabling more natural communication with technology.\n",
    "    \"\"\",\n",
    "    \"\"\"\n",
    "    Deep Learning and Neural Networks\n",
    "\n",
    "    Deep learning is a subset of machine learning that focuses on using neural networks with multiple layers to model complex patterns in data. Neural networks are inspired by the structure and function of the human brain, consisting of interconnected nodes (neurons) that process information. Deep learning has revolutionized various fields, including computer vision, natural language processing, and speech recognition, by enabling the development of models that can automatically learn hierarchical representations of data. Key architectures in deep learning include convolutional neural networks (CNNs) for image processing, recurrent neural networks (RNNs) for sequential data, and transformers for language modeling. Training deep learning models typically requires large datasets and significant computational resources, often utilizing GPUs for efficient processing. The success of deep learning has led to breakthroughs in applications such as autonomous vehicles, medical image analysis, and real-time language translation. As research continues, deep learning is expected to drive further innovations in artificial intelligence and its applications across various domains.\n",
    "    \"\"\"\n",
    "]\n",
    "\n",
    "sample_docs"
   ]
  },
  {
   "cell_type": "code",
   "execution_count": 4,
   "id": "60ae12d7",
   "metadata": {},
   "outputs": [
    {
     "name": "stdout",
     "output_type": "stream",
     "text": [
      "Sample documents saved to root\n"
     ]
    }
   ],
   "source": [
    "### save sample documents to files\n",
    "import tempfile\n",
    "# temp_dir= tempfile.mkdtemp()\n",
    "\n",
    "for i, doc in enumerate(sample_docs):\n",
    "    # with open(os.path.join(temp_dir, f\"doc_{i}.txt\"), \"w\") as f:\n",
    "    #     f.write(doc)\n",
    "    with open(f\"doc_{i}.txt\", \"w\") as f:\n",
    "        f.write(doc.strip())\n",
    "\n",
    "print(f\"Sample documents saved to root\")"
   ]
  },
  {
   "cell_type": "markdown",
   "id": "62c456ea",
   "metadata": {},
   "source": [
    "## Document Loading"
   ]
  },
  {
   "cell_type": "code",
   "execution_count": 5,
   "id": "c21cf611",
   "metadata": {},
   "outputs": [
    {
     "name": "stdout",
     "output_type": "stream",
     "text": [
      "Loaded 3 documents.\n",
      "First document content:\n",
      "Machine Learning Fundamentals\n",
      "\n",
      "    Machine learning is a subset of artificial intelligence that focuses on building systems that can learn from and make decisions based on data. It involves various al\n"
     ]
    }
   ],
   "source": [
    "from langchain_community.document_loaders import DirectoryLoader\n",
    "\n",
    "loader = DirectoryLoader('.', glob='doc_*.txt', loader_cls=TextLoader, loader_kwargs={'encoding': 'utf-8'})\n",
    "\n",
    "documents = loader.load()\n",
    "\n",
    "print(f\"Loaded {len(documents)} documents.\")\n",
    "print(\"First document content:\")\n",
    "print(documents[0].page_content[:200])  # print first 200 characters of the first document"
   ]
  },
  {
   "cell_type": "code",
   "execution_count": 6,
   "id": "57946582",
   "metadata": {},
   "outputs": [
    {
     "data": {
      "text/plain": [
       "[Document(metadata={'source': 'doc_0.txt'}, page_content='Machine Learning Fundamentals\\n\\n    Machine learning is a subset of artificial intelligence that focuses on building systems that can learn from and make decisions based on data. It involves various algorithms and statistical models that enable computers to perform specific tasks without explicit instructions. The key types of machine learning include supervised learning, unsupervised learning, and reinforcement learning. Supervised learning uses labeled data to train models, while unsupervised learning finds patterns in unlabeled data. Reinforcement learning involves training agents to make sequences of decisions by rewarding desired behaviors. Applications of machine learning span across various industries, including healthcare, finance, marketing, and more. Common algorithms used in machine learning include decision trees, support vector machines, neural networks, and clustering techniques. As the field continues to evolve, advancements in deep learning and neural networks are driving significant progress in areas such as computer vision, natural language processing, and autonomous systems.'),\n",
       " Document(metadata={'source': 'doc_1.txt'}, page_content='Natural Language Processing (NLP)\\n\\n    Natural Language Processing (NLP) is a branch of artificial intelligence that focuses on the interaction between computers and human language. It involves the development of algorithms and models that enable machines to understand, interpret, and generate human language in a way that is meaningful. NLP encompasses various tasks such as text classification, sentiment analysis, named entity recognition, machine translation, and speech recognition. Techniques used in NLP include tokenization, part-of-speech tagging, syntactic parsing, and semantic analysis. Recent advancements in NLP have been driven by deep learning models such as transformers, which have significantly improved the performance of language models like BERT and GPT. Applications of NLP are widespread, including chatbots, virtual assistants, automated customer support, and content recommendation systems. As NLP continues to advance, it plays a crucial role in enhancing human-computer interaction and enabling more natural communication with technology.'),\n",
       " Document(metadata={'source': 'doc_2.txt'}, page_content='Deep Learning and Neural Networks\\n\\n    Deep learning is a subset of machine learning that focuses on using neural networks with multiple layers to model complex patterns in data. Neural networks are inspired by the structure and function of the human brain, consisting of interconnected nodes (neurons) that process information. Deep learning has revolutionized various fields, including computer vision, natural language processing, and speech recognition, by enabling the development of models that can automatically learn hierarchical representations of data. Key architectures in deep learning include convolutional neural networks (CNNs) for image processing, recurrent neural networks (RNNs) for sequential data, and transformers for language modeling. Training deep learning models typically requires large datasets and significant computational resources, often utilizing GPUs for efficient processing. The success of deep learning has led to breakthroughs in applications such as autonomous vehicles, medical image analysis, and real-time language translation. As research continues, deep learning is expected to drive further innovations in artificial intelligence and its applications across various domains.')]"
      ]
     },
     "execution_count": 6,
     "metadata": {},
     "output_type": "execute_result"
    }
   ],
   "source": [
    "documents"
   ]
  },
  {
   "cell_type": "markdown",
   "id": "52ec19d0",
   "metadata": {},
   "source": [
    "## Document Splitting"
   ]
  },
  {
   "cell_type": "code",
   "execution_count": 7,
   "id": "c33596c2",
   "metadata": {},
   "outputs": [
    {
     "data": {
      "text/plain": [
       "[Document(metadata={'source': 'doc_0.txt'}, page_content='Machine Learning Fundamentals\\n\\n    Machine learning is a subset of artificial intelligence that focuses on building systems that can learn from and make decisions based on data. It involves various algorithms and statistical models that enable computers to perform specific tasks without explicit instructions. The key types of machine learning include supervised learning, unsupervised learning, and reinforcement learning. Supervised learning uses labeled data to train models, while unsupervised'),\n",
       " Document(metadata={'source': 'doc_0.txt'}, page_content='labeled data to train models, while unsupervised learning finds patterns in unlabeled data. Reinforcement learning involves training agents to make sequences of decisions by rewarding desired behaviors. Applications of machine learning span across various industries, including healthcare, finance, marketing, and more. Common algorithms used in machine learning include decision trees, support vector machines, neural networks, and clustering techniques. As the field continues to evolve,'),\n",
       " Document(metadata={'source': 'doc_0.txt'}, page_content='techniques. As the field continues to evolve, advancements in deep learning and neural networks are driving significant progress in areas such as computer vision, natural language processing, and autonomous systems.'),\n",
       " Document(metadata={'source': 'doc_1.txt'}, page_content='Natural Language Processing (NLP)\\n\\n    Natural Language Processing (NLP) is a branch of artificial intelligence that focuses on the interaction between computers and human language. It involves the development of algorithms and models that enable machines to understand, interpret, and generate human language in a way that is meaningful. NLP encompasses various tasks such as text classification, sentiment analysis, named entity recognition, machine translation, and speech recognition. Techniques'),\n",
       " Document(metadata={'source': 'doc_1.txt'}, page_content='translation, and speech recognition. Techniques used in NLP include tokenization, part-of-speech tagging, syntactic parsing, and semantic analysis. Recent advancements in NLP have been driven by deep learning models such as transformers, which have significantly improved the performance of language models like BERT and GPT. Applications of NLP are widespread, including chatbots, virtual assistants, automated customer support, and content recommendation systems. As NLP continues to advance, it'),\n",
       " Document(metadata={'source': 'doc_1.txt'}, page_content='systems. As NLP continues to advance, it plays a crucial role in enhancing human-computer interaction and enabling more natural communication with technology.'),\n",
       " Document(metadata={'source': 'doc_2.txt'}, page_content='Deep Learning and Neural Networks\\n\\n    Deep learning is a subset of machine learning that focuses on using neural networks with multiple layers to model complex patterns in data. Neural networks are inspired by the structure and function of the human brain, consisting of interconnected nodes (neurons) that process information. Deep learning has revolutionized various fields, including computer vision, natural language processing, and speech recognition, by enabling the development of models that'),\n",
       " Document(metadata={'source': 'doc_2.txt'}, page_content='by enabling the development of models that can automatically learn hierarchical representations of data. Key architectures in deep learning include convolutional neural networks (CNNs) for image processing, recurrent neural networks (RNNs) for sequential data, and transformers for language modeling. Training deep learning models typically requires large datasets and significant computational resources, often utilizing GPUs for efficient processing. The success of deep learning has led to'),\n",
       " Document(metadata={'source': 'doc_2.txt'}, page_content='The success of deep learning has led to breakthroughs in applications such as autonomous vehicles, medical image analysis, and real-time language translation. As research continues, deep learning is expected to drive further innovations in artificial intelligence and its applications across various domains.')]"
      ]
     },
     "execution_count": 7,
     "metadata": {},
     "output_type": "execute_result"
    }
   ],
   "source": [
    "# Initialize Text Splitter\n",
    "text_splitter = RecursiveCharacterTextSplitter(\n",
    "    chunk_size=500,\n",
    "    chunk_overlap=50,\n",
    "    length_function=len,\n",
    "    separators=[\" \"] # Hierarchy of separators\n",
    ")\n",
    "\n",
    "chunks = text_splitter.split_documents(documents)\n",
    "\n",
    "chunks"
   ]
  },
  {
   "cell_type": "markdown",
   "id": "d638dc71",
   "metadata": {},
   "source": [
    "## Initialize ChromaDB Vector store and store the chunks"
   ]
  },
  {
   "cell_type": "code",
   "execution_count": 8,
   "id": "a80a2c89",
   "metadata": {},
   "outputs": [
    {
     "name": "stdout",
     "output_type": "stream",
     "text": [
      "Vector store created with 9 vectors.\n",
      "Vectors persisted in directory: ./chroma_db\n"
     ]
    }
   ],
   "source": [
    "## Create a ChromaDB Vector Store\n",
    "\n",
    "persist_directory = './chroma_db'\n",
    "\n",
    "## Initialize ChromaDB with HuggingFace Embeddings\n",
    "vectorstore = Chroma.from_documents(\n",
    "    documents=chunks,\n",
    "    embedding=HuggingFaceEmbeddings(model_name=\"sentence-transformers/all-MiniLM-L6-v2\"),\n",
    "    persist_directory=persist_directory,\n",
    "    collection_name=\"rag_collection\"\n",
    ")\n",
    "\n",
    "print(f\"Vector store created with {vectorstore._collection.count()} vectors.\")\n",
    "print(f\"Vectors persisted in directory: {persist_directory}\")"
   ]
  },
  {
   "cell_type": "markdown",
   "id": "c79a37e6",
   "metadata": {},
   "source": [
    "### Test Similarity search"
   ]
  },
  {
   "cell_type": "code",
   "execution_count": 9,
   "id": "23ba9f22",
   "metadata": {},
   "outputs": [
    {
     "data": {
      "text/plain": [
       "[Document(metadata={'source': 'doc_0.txt'}, page_content='Machine Learning Fundamentals\\n\\n    Machine learning is a subset of artificial intelligence that focuses on building systems that can learn from and make decisions based on data. It involves various algorithms and statistical models that enable computers to perform specific tasks without explicit instructions. The key types of machine learning include supervised learning, unsupervised learning, and reinforcement learning. Supervised learning uses labeled data to train models, while unsupervised'),\n",
       " Document(metadata={'source': 'doc_0.txt'}, page_content='labeled data to train models, while unsupervised learning finds patterns in unlabeled data. Reinforcement learning involves training agents to make sequences of decisions by rewarding desired behaviors. Applications of machine learning span across various industries, including healthcare, finance, marketing, and more. Common algorithms used in machine learning include decision trees, support vector machines, neural networks, and clustering techniques. As the field continues to evolve,'),\n",
       " Document(metadata={'source': 'doc_2.txt'}, page_content='Deep Learning and Neural Networks\\n\\n    Deep learning is a subset of machine learning that focuses on using neural networks with multiple layers to model complex patterns in data. Neural networks are inspired by the structure and function of the human brain, consisting of interconnected nodes (neurons) that process information. Deep learning has revolutionized various fields, including computer vision, natural language processing, and speech recognition, by enabling the development of models that')]"
      ]
     },
     "execution_count": 9,
     "metadata": {},
     "output_type": "execute_result"
    }
   ],
   "source": [
    "query = \"What are types of machine learning?\"\n",
    "\n",
    "similar_docs = vectorstore.similarity_search(query, k=3)\n",
    "\n",
    "similar_docs"
   ]
  },
  {
   "cell_type": "code",
   "execution_count": 10,
   "id": "046ba891",
   "metadata": {},
   "outputs": [
    {
     "data": {
      "text/plain": [
       "[Document(metadata={'source': 'doc_1.txt'}, page_content='Natural Language Processing (NLP)\\n\\n    Natural Language Processing (NLP) is a branch of artificial intelligence that focuses on the interaction between computers and human language. It involves the development of algorithms and models that enable machines to understand, interpret, and generate human language in a way that is meaningful. NLP encompasses various tasks such as text classification, sentiment analysis, named entity recognition, machine translation, and speech recognition. Techniques'),\n",
       " Document(metadata={'source': 'doc_1.txt'}, page_content='systems. As NLP continues to advance, it plays a crucial role in enhancing human-computer interaction and enabling more natural communication with technology.'),\n",
       " Document(metadata={'source': 'doc_1.txt'}, page_content='translation, and speech recognition. Techniques used in NLP include tokenization, part-of-speech tagging, syntactic parsing, and semantic analysis. Recent advancements in NLP have been driven by deep learning models such as transformers, which have significantly improved the performance of language models like BERT and GPT. Applications of NLP are widespread, including chatbots, virtual assistants, automated customer support, and content recommendation systems. As NLP continues to advance, it')]"
      ]
     },
     "execution_count": 10,
     "metadata": {},
     "output_type": "execute_result"
    }
   ],
   "source": [
    "query = \"What is NLP?\"\n",
    "\n",
    "similar_docs = vectorstore.similarity_search(query, k=3)\n",
    "\n",
    "similar_docs"
   ]
  },
  {
   "cell_type": "code",
   "execution_count": 11,
   "id": "145374ff",
   "metadata": {},
   "outputs": [
    {
     "data": {
      "text/plain": [
       "[Document(metadata={'source': 'doc_2.txt'}, page_content='Deep Learning and Neural Networks\\n\\n    Deep learning is a subset of machine learning that focuses on using neural networks with multiple layers to model complex patterns in data. Neural networks are inspired by the structure and function of the human brain, consisting of interconnected nodes (neurons) that process information. Deep learning has revolutionized various fields, including computer vision, natural language processing, and speech recognition, by enabling the development of models that'),\n",
       " Document(metadata={'source': 'doc_2.txt'}, page_content='by enabling the development of models that can automatically learn hierarchical representations of data. Key architectures in deep learning include convolutional neural networks (CNNs) for image processing, recurrent neural networks (RNNs) for sequential data, and transformers for language modeling. Training deep learning models typically requires large datasets and significant computational resources, often utilizing GPUs for efficient processing. The success of deep learning has led to'),\n",
       " Document(metadata={'source': 'doc_2.txt'}, page_content='The success of deep learning has led to breakthroughs in applications such as autonomous vehicles, medical image analysis, and real-time language translation. As research continues, deep learning is expected to drive further innovations in artificial intelligence and its applications across various domains.')]"
      ]
     },
     "execution_count": 11,
     "metadata": {},
     "output_type": "execute_result"
    }
   ],
   "source": [
    "query = \"What is deep learning?\"\n",
    "\n",
    "similar_docs = vectorstore.similarity_search(query, k=3)\n",
    "\n",
    "similar_docs"
   ]
  },
  {
   "cell_type": "markdown",
   "id": "1d74b571",
   "metadata": {},
   "source": [
    "### Advanced Similarity Search with Scores"
   ]
  },
  {
   "cell_type": "code",
   "execution_count": 12,
   "id": "6932184d",
   "metadata": {},
   "outputs": [
    {
     "data": {
      "text/plain": [
       "[(Document(metadata={'source': 'doc_2.txt'}, page_content='Deep Learning and Neural Networks\\n\\n    Deep learning is a subset of machine learning that focuses on using neural networks with multiple layers to model complex patterns in data. Neural networks are inspired by the structure and function of the human brain, consisting of interconnected nodes (neurons) that process information. Deep learning has revolutionized various fields, including computer vision, natural language processing, and speech recognition, by enabling the development of models that'),\n",
       "  0.5512487888336182),\n",
       " (Document(metadata={'source': 'doc_2.txt'}, page_content='by enabling the development of models that can automatically learn hierarchical representations of data. Key architectures in deep learning include convolutional neural networks (CNNs) for image processing, recurrent neural networks (RNNs) for sequential data, and transformers for language modeling. Training deep learning models typically requires large datasets and significant computational resources, often utilizing GPUs for efficient processing. The success of deep learning has led to'),\n",
       "  0.6596519947052002),\n",
       " (Document(metadata={'source': 'doc_2.txt'}, page_content='The success of deep learning has led to breakthroughs in applications such as autonomous vehicles, medical image analysis, and real-time language translation. As research continues, deep learning is expected to drive further innovations in artificial intelligence and its applications across various domains.'),\n",
       "  0.8478018045425415)]"
      ]
     },
     "execution_count": 12,
     "metadata": {},
     "output_type": "execute_result"
    }
   ],
   "source": [
    "result_scores= vectorstore.similarity_search_with_score(query, k=3)\n",
    "result_scores"
   ]
  },
  {
   "cell_type": "markdown",
   "id": "57d135fb",
   "metadata": {},
   "source": [
    "### Understanding Similarity Scores\n",
    "\n",
    "The similarity score represents how closely related a document chunk is to your query, The scoring depends on the distance metric used:\n",
    "\n",
    "ChromaDB by default uses L2 distance (Euclidean distance)\n",
    "- Lower scores =  MORE similar (closer in vector space)\n",
    "- Score of 0 =  identical vectors\n",
    "- Typical range: 0 to 2 (but can be higher)\n",
    "\n",
    "Cosine similarity (if configured):\n",
    "\n",
    "- Higher scores =  MORE similar\n",
    "- Range: -1 to 1 (1 being identical)"
   ]
  },
  {
   "cell_type": "markdown",
   "id": "8d180556",
   "metadata": {},
   "source": [
    "## Initialize LLM, RAG Chain, Prompt Tempate, Query the RAG system"
   ]
  },
  {
   "cell_type": "code",
   "execution_count": 13,
   "id": "d144dfef",
   "metadata": {},
   "outputs": [],
   "source": [
    "from langchain_ollama import ChatOllama\n",
    "\n",
    "llm = ChatOllama(model=\"mistral:latest\")"
   ]
  },
  {
   "cell_type": "code",
   "execution_count": 14,
   "id": "e41b84cc",
   "metadata": {},
   "outputs": [
    {
     "data": {
      "text/plain": [
       "AIMessage(content=' Large Language Models (LLMs) are a type of artificial intelligence (AI) model designed to process and generate human-like text. They are trained on vast amounts of internet text, learning to predict the next word in a sentence based on context. These models can answer questions, write essays, summarize texts, translate languages, and even carry out conversations. Examples include models like me, such as Megatron, T5, BERT, and GPT-3 from companies like Hugging Face, Google, and OpenAI.\\n\\nLarge Language Models are a subset of Transformer models, which were introduced in 2017 by Vaswani et al. The transformer model architecture is designed to handle sequences of data and has shown great success in natural language processing tasks, especially in understanding the context and meaning behind text. These models have made significant advancements in the field of AI and natural language understanding (NLU).', additional_kwargs={}, response_metadata={'model': 'mistral:latest', 'created_at': '2025-10-29T10:16:24.3935153Z', 'done': True, 'done_reason': 'stop', 'total_duration': 10657325200, 'load_duration': 6770246500, 'prompt_eval_count': 11, 'prompt_eval_duration': 52997400, 'eval_count': 193, 'eval_duration': 3743151500, 'model_name': 'mistral:latest', 'model_provider': 'ollama'}, id='lc_run--981114e4-b5a9-4dfa-9b13-a06da9ceaf9a-0', usage_metadata={'input_tokens': 11, 'output_tokens': 193, 'total_tokens': 204})"
      ]
     },
     "execution_count": 14,
     "metadata": {},
     "output_type": "execute_result"
    }
   ],
   "source": [
    "test_response =  llm.invoke(\"What is Large Language Models?\")\n",
    "\n",
    "test_response"
   ]
  },
  {
   "cell_type": "code",
   "execution_count": 15,
   "id": "cea87a44",
   "metadata": {},
   "outputs": [
    {
     "data": {
      "text/plain": [
       "ChatOllama(model='mistral:latest')"
      ]
     },
     "execution_count": 15,
     "metadata": {},
     "output_type": "execute_result"
    }
   ],
   "source": [
    "# Alternative waqy to initialize chat models\n",
    "\n",
    "from langchain.chat_models.base import init_chat_model\n",
    "\n",
    "chat_model = init_chat_model(\"ollama:mistral:latest\")\n",
    "#llm = init_chat_model(\"groq:\")\n",
    "\n",
    "chat_model"
   ]
  },
  {
   "cell_type": "code",
   "execution_count": 16,
   "id": "413330a9",
   "metadata": {},
   "outputs": [
    {
     "data": {
      "text/plain": [
       "AIMessage(content=\" Reinforcement Learning (RL) is a type of machine learning where an agent learns to make decisions by interacting with its environment. The goal is for the agent to learn a policy, which is a strategy that maps states to actions, enabling it to maximize some notion of cumulative reward over time.\\n\\nHere's a simplified breakdown:\\n\\n1. **Agent**: This is the learning entity that interacts with the environment. It can be anything from a robot arm in a factory, an autonomous car, or even an AI playing a video game.\\n\\n2. **Environment**: This is the world in which the agent operates. The environment could be a physical space (like a room), a virtual space (like a video game), or even an abstract concept (like financial markets).\\n\\n3. **State**: At any given time, the environment is in some specific condition or configuration. This state is observed by the agent and used to decide its next action.\\n\\n4. **Action**: The agent selects an action based on its current state. Actions change the environment, moving it from one state to another.\\n\\n5. **Reward**: After each action, the environment provides a reward signal to the agent. This signal helps the agent to understand whether its actions are leading it closer or further away from its goal. The goal is for the agent to learn which actions lead to the highest rewards over time.\\n\\n6. **Policy**: A policy is a strategy that the agent uses to decide which action to take in each state, based on its current understanding of the environment. The policy can be deterministic (always selecting the same action for the same state) or stochastic (selecting actions probabilistically).\\n\\n7. **Value Function**: In reinforcement learning, a value function assigns a value to each state or state-action pair, representing how good it is to be in that state and take that action, given the current policy. The goal of reinforcement learning is to learn an optimal policy, for which the value functions represent the expected cumulative reward over time.\\n\\nThrough trial and error, the agent iteratively updates its policy to improve its performance, aiming to maximize its total reward. This is often achieved through techniques like Q-learning, Deep Q-Networks (DQN), or policy gradients, among others. The goal is for the agent to learn a policy that generalizes well to new states and situations, making it capable of intelligent decision-making in complex, dynamic environments.\", additional_kwargs={}, response_metadata={'model': 'mistral:latest', 'created_at': '2025-10-29T10:16:35.6436242Z', 'done': True, 'done_reason': 'stop', 'total_duration': 10875488200, 'load_duration': 22233900, 'prompt_eval_count': 13, 'prompt_eval_duration': 46796300, 'eval_count': 530, 'eval_duration': 10580894300, 'model_name': 'mistral:latest', 'model_provider': 'ollama'}, id='lc_run--ec8e4262-ed20-4792-84e2-e2593b417688-0', usage_metadata={'input_tokens': 13, 'output_tokens': 530, 'total_tokens': 543})"
      ]
     },
     "execution_count": 16,
     "metadata": {},
     "output_type": "execute_result"
    }
   ],
   "source": [
    "chat_model.invoke(\"Explain the concept of reinforcement learning.\")"
   ]
  },
  {
   "cell_type": "markdown",
   "id": "9e3c6a24",
   "metadata": {},
   "source": [
    "## Modern RAG Chain"
   ]
  },
  {
   "cell_type": "code",
   "execution_count": 17,
   "id": "1bc8ad28",
   "metadata": {},
   "outputs": [],
   "source": [
    "from langchain_classic.chains.retrieval import create_retrieval_chain\n",
    "from langchain_core.prompts import ChatPromptTemplate\n",
    "from langchain_classic.chains.combine_documents.stuff import create_stuff_documents_chain"
   ]
  },
  {
   "cell_type": "code",
   "execution_count": 18,
   "id": "04aa403a",
   "metadata": {},
   "outputs": [
    {
     "data": {
      "text/plain": [
       "VectorStoreRetriever(tags=['Chroma', 'HuggingFaceEmbeddings'], vectorstore=<langchain_community.vectorstores.chroma.Chroma object at 0x00000221E98BEE50>, search_kwargs={'k': 3})"
      ]
     },
     "execution_count": 18,
     "metadata": {},
     "output_type": "execute_result"
    }
   ],
   "source": [
    "## Convert vectorstore to a retriever\n",
    "\n",
    "retriever = vectorstore.as_retriever(\n",
    "    search_type=\"similarity\",\n",
    "    search_kwargs={\"k\": 3}\n",
    ")\n",
    "\n",
    "retriever"
   ]
  },
  {
   "cell_type": "code",
   "execution_count": 19,
   "id": "f0150cf9",
   "metadata": {},
   "outputs": [],
   "source": [
    "##Create Prompt Template\n",
    "system_prompt = \"\"\"You are an assistant for question-answering tasks.\n",
    "Use the context provided to answer the question as accurately as possible.\n",
    "If the context does not contain the answer, respond with 'I don't know'.\n",
    "Use three sentences maximum to answer the question and keep it concise.\n",
    "\n",
    "Context: {context}\"\"\"\n",
    "\n",
    "prompt = ChatPromptTemplate.from_messages([\n",
    "    (\"system\", system_prompt),\n",
    "    (\"human\", \"{input}\")\n",
    "])"
   ]
  },
  {
   "cell_type": "code",
   "execution_count": 20,
   "id": "65f34477",
   "metadata": {},
   "outputs": [
    {
     "data": {
      "text/plain": [
       "ChatPromptTemplate(input_variables=['context', 'input'], input_types={}, partial_variables={}, messages=[SystemMessagePromptTemplate(prompt=PromptTemplate(input_variables=['context'], input_types={}, partial_variables={}, template=\"You are an assistant for question-answering tasks.\\nUse the context provided to answer the question as accurately as possible.\\nIf the context does not contain the answer, respond with 'I don't know'.\\nUse three sentences maximum to answer the question and keep it concise.\\n\\nContext: {context}\"), additional_kwargs={}), HumanMessagePromptTemplate(prompt=PromptTemplate(input_variables=['input'], input_types={}, partial_variables={}, template='{input}'), additional_kwargs={})])"
      ]
     },
     "execution_count": 20,
     "metadata": {},
     "output_type": "execute_result"
    }
   ],
   "source": [
    "prompt"
   ]
  },
  {
   "cell_type": "code",
   "execution_count": 21,
   "id": "2f21887a",
   "metadata": {},
   "outputs": [
    {
     "data": {
      "text/plain": [
       "RunnableBinding(bound=RunnableBinding(bound=RunnableAssign(mapper={\n",
       "  context: RunnableLambda(format_docs)\n",
       "}), kwargs={}, config={'run_name': 'format_inputs'}, config_factories=[])\n",
       "| ChatPromptTemplate(input_variables=['context', 'input'], input_types={}, partial_variables={}, messages=[SystemMessagePromptTemplate(prompt=PromptTemplate(input_variables=['context'], input_types={}, partial_variables={}, template=\"You are an assistant for question-answering tasks.\\nUse the context provided to answer the question as accurately as possible.\\nIf the context does not contain the answer, respond with 'I don't know'.\\nUse three sentences maximum to answer the question and keep it concise.\\n\\nContext: {context}\"), additional_kwargs={}), HumanMessagePromptTemplate(prompt=PromptTemplate(input_variables=['input'], input_types={}, partial_variables={}, template='{input}'), additional_kwargs={})])\n",
       "| ChatOllama(model='mistral:latest')\n",
       "| StrOutputParser(), kwargs={}, config={'run_name': 'stuff_documents_chain'}, config_factories=[])"
      ]
     },
     "execution_count": 21,
     "metadata": {},
     "output_type": "execute_result"
    }
   ],
   "source": [
    "## Create Documents Chain\n",
    "documents_chain = create_stuff_documents_chain(\n",
    "    llm=chat_model,\n",
    "    prompt=prompt\n",
    ")\n",
    "\n",
    "documents_chain"
   ]
  },
  {
   "cell_type": "markdown",
   "id": "de171a51",
   "metadata": {},
   "source": [
    "This chain:\n",
    "\n",
    "- Takes retrieved documents\n",
    "- \"Stuffs\" them into prompt's {context} placeholder.\n",
    "- Sends the complete prompt to the LLM.\n",
    "- Returns the LLM's response."
   ]
  },
  {
   "cell_type": "code",
   "execution_count": 22,
   "id": "fad789f3",
   "metadata": {},
   "outputs": [
    {
     "data": {
      "text/plain": [
       "RunnableBinding(bound=RunnableAssign(mapper={\n",
       "  context: RunnableBinding(bound=RunnableLambda(lambda x: x['input'])\n",
       "           | VectorStoreRetriever(tags=['Chroma', 'HuggingFaceEmbeddings'], vectorstore=<langchain_community.vectorstores.chroma.Chroma object at 0x00000221E98BEE50>, search_kwargs={'k': 3}), kwargs={}, config={'run_name': 'retrieve_documents'}, config_factories=[])\n",
       "})\n",
       "| RunnableAssign(mapper={\n",
       "    answer: RunnableBinding(bound=RunnableBinding(bound=RunnableAssign(mapper={\n",
       "              context: RunnableLambda(format_docs)\n",
       "            }), kwargs={}, config={'run_name': 'format_inputs'}, config_factories=[])\n",
       "            | ChatPromptTemplate(input_variables=['context', 'input'], input_types={}, partial_variables={}, messages=[SystemMessagePromptTemplate(prompt=PromptTemplate(input_variables=['context'], input_types={}, partial_variables={}, template=\"You are an assistant for question-answering tasks.\\nUse the context provided to answer the question as accurately as possible.\\nIf the context does not contain the answer, respond with 'I don't know'.\\nUse three sentences maximum to answer the question and keep it concise.\\n\\nContext: {context}\"), additional_kwargs={}), HumanMessagePromptTemplate(prompt=PromptTemplate(input_variables=['input'], input_types={}, partial_variables={}, template='{input}'), additional_kwargs={})])\n",
       "            | ChatOllama(model='mistral:latest')\n",
       "            | StrOutputParser(), kwargs={}, config={'run_name': 'stuff_documents_chain'}, config_factories=[])\n",
       "  }), kwargs={}, config={'run_name': 'retrieval_chain'}, config_factories=[])"
      ]
     },
     "execution_count": 22,
     "metadata": {},
     "output_type": "execute_result"
    }
   ],
   "source": [
    "### Create the Final RAG Chain\n",
    "rag_chain = create_retrieval_chain(retriever,documents_chain)\n",
    "rag_chain"
   ]
  },
  {
   "cell_type": "markdown",
   "id": "817f31b2",
   "metadata": {},
   "source": [
    "Using this create_retrieval_chain we are able to another retreval layer to our stuff document chain which uses the retriever to fetch relavant documents from our vectorstore and sends it to the stuff chain which sends it to the LLM."
   ]
  },
  {
   "cell_type": "code",
   "execution_count": 23,
   "id": "a5fd858c",
   "metadata": {},
   "outputs": [
    {
     "data": {
      "text/plain": [
       "{'input': 'Explain the different types of machine learning.',\n",
       " 'context': [Document(metadata={'source': 'doc_0.txt'}, page_content='Machine Learning Fundamentals\\n\\n    Machine learning is a subset of artificial intelligence that focuses on building systems that can learn from and make decisions based on data. It involves various algorithms and statistical models that enable computers to perform specific tasks without explicit instructions. The key types of machine learning include supervised learning, unsupervised learning, and reinforcement learning. Supervised learning uses labeled data to train models, while unsupervised'),\n",
       "  Document(metadata={'source': 'doc_0.txt'}, page_content='labeled data to train models, while unsupervised learning finds patterns in unlabeled data. Reinforcement learning involves training agents to make sequences of decisions by rewarding desired behaviors. Applications of machine learning span across various industries, including healthcare, finance, marketing, and more. Common algorithms used in machine learning include decision trees, support vector machines, neural networks, and clustering techniques. As the field continues to evolve,'),\n",
       "  Document(metadata={'source': 'doc_2.txt'}, page_content='Deep Learning and Neural Networks\\n\\n    Deep learning is a subset of machine learning that focuses on using neural networks with multiple layers to model complex patterns in data. Neural networks are inspired by the structure and function of the human brain, consisting of interconnected nodes (neurons) that process information. Deep learning has revolutionized various fields, including computer vision, natural language processing, and speech recognition, by enabling the development of models that')],\n",
       " 'answer': ' The three main types of machine learning are:\\n1. Supervised Learning: Uses labeled data to train models for specific tasks, such as image classification or speech recognition.\\n2. Unsupervised Learning: Finds patterns in unlabeled data without explicit guidance, useful for clustering and anomaly detection.\\n3. Reinforcement Learning: Trains agents to make sequences of decisions by rewarding desired behaviors, commonly used for navigation and gaming.\\n\\nDeep learning, a subset of machine learning, utilizes neural networks with multiple layers to model complex patterns in data. This has significantly impacted various fields like computer vision, natural language processing, and speech recognition.'}"
      ]
     },
     "execution_count": 23,
     "metadata": {},
     "output_type": "execute_result"
    }
   ],
   "source": [
    "response = rag_chain.invoke({\"input\": \"Explain the different types of machine learning.\"})\n",
    "\n",
    "response"
   ]
  },
  {
   "cell_type": "code",
   "execution_count": 24,
   "id": "f51ef782",
   "metadata": {},
   "outputs": [
    {
     "data": {
      "text/plain": [
       "' The three main types of machine learning are:\\n1. Supervised Learning: Uses labeled data to train models for specific tasks, such as image classification or speech recognition.\\n2. Unsupervised Learning: Finds patterns in unlabeled data without explicit guidance, useful for clustering and anomaly detection.\\n3. Reinforcement Learning: Trains agents to make sequences of decisions by rewarding desired behaviors, commonly used for navigation and gaming.\\n\\nDeep learning, a subset of machine learning, utilizes neural networks with multiple layers to model complex patterns in data. This has significantly impacted various fields like computer vision, natural language processing, and speech recognition.'"
      ]
     },
     "execution_count": 24,
     "metadata": {},
     "output_type": "execute_result"
    }
   ],
   "source": [
    "response[\"answer\"]"
   ]
  },
  {
   "cell_type": "code",
   "execution_count": 25,
   "id": "9c763ac9",
   "metadata": {},
   "outputs": [
    {
     "name": "stdout",
     "output_type": "stream",
     "text": [
      "Question: What are three types of machine learning?\n",
      "--------------------------------------------------\n",
      "Answer: {'input': 'What are three types of machine learning?', 'context': [Document(metadata={'source': 'doc_0.txt'}, page_content='Machine Learning Fundamentals\\n\\n    Machine learning is a subset of artificial intelligence that focuses on building systems that can learn from and make decisions based on data. It involves various algorithms and statistical models that enable computers to perform specific tasks without explicit instructions. The key types of machine learning include supervised learning, unsupervised learning, and reinforcement learning. Supervised learning uses labeled data to train models, while unsupervised'), Document(metadata={'source': 'doc_0.txt'}, page_content='labeled data to train models, while unsupervised learning finds patterns in unlabeled data. Reinforcement learning involves training agents to make sequences of decisions by rewarding desired behaviors. Applications of machine learning span across various industries, including healthcare, finance, marketing, and more. Common algorithms used in machine learning include decision trees, support vector machines, neural networks, and clustering techniques. As the field continues to evolve,'), Document(metadata={'source': 'doc_0.txt'}, page_content='techniques. As the field continues to evolve, advancements in deep learning and neural networks are driving significant progress in areas such as computer vision, natural language processing, and autonomous systems.')], 'answer': ' The three types of machine learning are:\\n1. Supervised Learning: This uses labeled data to train models by making predictions based on known inputs and outputs.\\n2. Unsupervised Learning: This finds patterns in unlabeled data, without any predefined labels or input/output pairs.\\n3. Reinforcement Learning: This trains agents to make sequences of decisions by rewarding desired behaviors.'}\n",
      "\n",
      "Retrieved Context:\n",
      "\n",
      " ----- Source 1 -----\n",
      "Machine Learning Fundamentals\n",
      "\n",
      "    Machine learning is a subset of artificial intelligence that focuses on building systems that can learn from and make decisions based on data. It involves various al...\n",
      "\n",
      " ----- Source 2 -----\n",
      "labeled data to train models, while unsupervised learning finds patterns in unlabeled data. Reinforcement learning involves training agents to make sequences of decisions by rewarding desired behavior...\n",
      "\n",
      " ----- Source 3 -----\n",
      "techniques. As the field continues to evolve, advancements in deep learning and neural networks are driving significant progress in areas such as computer vision, natural language processing, and auto...\n",
      "\n",
      "================================================================================\n",
      "\n",
      "Question: What is Deep Learning and how does it relate to Neural Networks?\n",
      "--------------------------------------------------\n",
      "Answer: {'input': 'What is Deep Learning and how does it relate to Neural Networks?', 'context': [Document(metadata={'source': 'doc_2.txt'}, page_content='Deep Learning and Neural Networks\\n\\n    Deep learning is a subset of machine learning that focuses on using neural networks with multiple layers to model complex patterns in data. Neural networks are inspired by the structure and function of the human brain, consisting of interconnected nodes (neurons) that process information. Deep learning has revolutionized various fields, including computer vision, natural language processing, and speech recognition, by enabling the development of models that'), Document(metadata={'source': 'doc_2.txt'}, page_content='by enabling the development of models that can automatically learn hierarchical representations of data. Key architectures in deep learning include convolutional neural networks (CNNs) for image processing, recurrent neural networks (RNNs) for sequential data, and transformers for language modeling. Training deep learning models typically requires large datasets and significant computational resources, often utilizing GPUs for efficient processing. The success of deep learning has led to'), Document(metadata={'source': 'doc_2.txt'}, page_content='The success of deep learning has led to breakthroughs in applications such as autonomous vehicles, medical image analysis, and real-time language translation. As research continues, deep learning is expected to drive further innovations in artificial intelligence and its applications across various domains.')], 'answer': ' Deep Learning is a branch of Machine Learning that specializes in training Artificial Neural Networks (ANNs) with multiple layers to identify complex patterns in data. These networks are inspired by the structure and function of the human brain, consisting of interconnected nodes (neurons). Deep Learning models can automatically learn hierarchical representations of data, revolutionizing fields like computer vision, natural language processing, and speech recognition. Key architectures include Convolutional Neural Networks (CNNs), Recurrent Neural Networks (RNNs), and Transformers. Training these models requires large datasets and significant computational resources, often utilizing GPUs for efficient processing.'}\n",
      "\n",
      "Retrieved Context:\n",
      "\n",
      " ----- Source 1 -----\n",
      "Deep Learning and Neural Networks\n",
      "\n",
      "    Deep learning is a subset of machine learning that focuses on using neural networks with multiple layers to model complex patterns in data. Neural networks are i...\n",
      "\n",
      " ----- Source 2 -----\n",
      "by enabling the development of models that can automatically learn hierarchical representations of data. Key architectures in deep learning include convolutional neural networks (CNNs) for image proce...\n",
      "\n",
      " ----- Source 3 -----\n",
      "The success of deep learning has led to breakthroughs in applications such as autonomous vehicles, medical image analysis, and real-time language translation. As research continues, deep learning is e...\n",
      "\n",
      "================================================================================\n",
      "\n",
      "Question: What are CNNs used for?\n",
      "--------------------------------------------------\n",
      "Answer: {'input': 'What are CNNs used for?', 'context': [Document(metadata={'source': 'doc_2.txt'}, page_content='Deep Learning and Neural Networks\\n\\n    Deep learning is a subset of machine learning that focuses on using neural networks with multiple layers to model complex patterns in data. Neural networks are inspired by the structure and function of the human brain, consisting of interconnected nodes (neurons) that process information. Deep learning has revolutionized various fields, including computer vision, natural language processing, and speech recognition, by enabling the development of models that'), Document(metadata={'source': 'doc_2.txt'}, page_content='by enabling the development of models that can automatically learn hierarchical representations of data. Key architectures in deep learning include convolutional neural networks (CNNs) for image processing, recurrent neural networks (RNNs) for sequential data, and transformers for language modeling. Training deep learning models typically requires large datasets and significant computational resources, often utilizing GPUs for efficient processing. The success of deep learning has led to'), Document(metadata={'source': 'doc_0.txt'}, page_content='techniques. As the field continues to evolve, advancements in deep learning and neural networks are driving significant progress in areas such as computer vision, natural language processing, and autonomous systems.')], 'answer': ' CNNs (Convolutional Neural Networks) are primarily used for image processing tasks, such as object detection, classification, and segmentation. They excel at identifying features within images by using convolution operations and pooling layers, making them effective in fields like computer vision and self-driving cars.'}\n",
      "\n",
      "Retrieved Context:\n",
      "\n",
      " ----- Source 1 -----\n",
      "Deep Learning and Neural Networks\n",
      "\n",
      "    Deep learning is a subset of machine learning that focuses on using neural networks with multiple layers to model complex patterns in data. Neural networks are i...\n",
      "\n",
      " ----- Source 2 -----\n",
      "by enabling the development of models that can automatically learn hierarchical representations of data. Key architectures in deep learning include convolutional neural networks (CNNs) for image proce...\n",
      "\n",
      " ----- Source 3 -----\n",
      "techniques. As the field continues to evolve, advancements in deep learning and neural networks are driving significant progress in areas such as computer vision, natural language processing, and auto...\n",
      "\n",
      "================================================================================\n",
      "\n"
     ]
    }
   ],
   "source": [
    "# Function to query the modern RAG system\n",
    "\n",
    "def query_rag_modern(question: str) -> str:\n",
    "    print(f\"Question: {question}\")\n",
    "    print(\"-\"*50)\n",
    "\n",
    "    # Using create_retrieval_chain approach\n",
    "    result = rag_chain.invoke({\"input\": question})\n",
    "\n",
    "    print(f\"Answer: {result}\")\n",
    "    print(\"\\nRetrieved Context:\")\n",
    "    for i, doc in enumerate(result['context']):\n",
    "        print(f\"\\n ----- Source {i+1} -----\")\n",
    "        print(doc.page_content[:200]+\"...\")\n",
    "\n",
    "    return result['answer']\n",
    "\n",
    "test_questions = [\n",
    "    \"What are three types of machine learning?\",\n",
    "    \"What is Deep Learning and how does it relate to Neural Networks?\",\n",
    "    \"What are CNNs used for?\"\n",
    "]\n",
    "\n",
    "for question in test_questions:\n",
    "    query_rag_modern(question)\n",
    "    print(\"\\n\"+\"=\"*80+\"\\n\")"
   ]
  },
  {
   "cell_type": "markdown",
   "id": "7f3308c5",
   "metadata": {},
   "source": [
    "# Creating Rag Chain Alternative - Using LCEL"
   ]
  },
  {
   "cell_type": "code",
   "execution_count": 26,
   "id": "0f65603d",
   "metadata": {},
   "outputs": [],
   "source": [
    "from langchain_core.output_parsers import StrOutputParser\n",
    "from langchain_core.runnables import RunnablePassthrough\n",
    "from langchain_core.prompts import ChatPromptTemplate\n"
   ]
  },
  {
   "cell_type": "code",
   "execution_count": 27,
   "id": "50376e47",
   "metadata": {},
   "outputs": [
    {
     "data": {
      "text/plain": [
       "ChatPromptTemplate(input_variables=['context', 'question'], input_types={}, partial_variables={}, messages=[HumanMessagePromptTemplate(prompt=PromptTemplate(input_variables=['context', 'question'], input_types={}, partial_variables={}, template=\"Use the context provided to answer the question as accurately as possible.\\nIf the context does not contain the answer, respond with 'I don't know'.\\nUse three sentences maximum to answer the question and keep it concise.\\n\\nContext: {context}\\n\\nQuestion: {question}\\n\\nAnswer:\"), additional_kwargs={})])"
      ]
     },
     "execution_count": 27,
     "metadata": {},
     "output_type": "execute_result"
    }
   ],
   "source": [
    "#Create a custom Prompt\n",
    "custom_prompt = ChatPromptTemplate.from_template(\n",
    "    \"\"\"Use the context provided to answer the question as accurately as possible.\n",
    "If the context does not contain the answer, respond with 'I don't know'.\n",
    "Use three sentences maximum to answer the question and keep it concise.\n",
    "\n",
    "Context: {context}\n",
    "\n",
    "Question: {question}\n",
    "\n",
    "Answer:\"\"\"\n",
    ")\n",
    "\n",
    "custom_prompt\n"
   ]
  },
  {
   "cell_type": "code",
   "execution_count": 28,
   "id": "60d3f322",
   "metadata": {},
   "outputs": [
    {
     "data": {
      "text/plain": [
       "VectorStoreRetriever(tags=['Chroma', 'HuggingFaceEmbeddings'], vectorstore=<langchain_community.vectorstores.chroma.Chroma object at 0x00000221E98BEE50>, search_kwargs={'k': 3})"
      ]
     },
     "execution_count": 28,
     "metadata": {},
     "output_type": "execute_result"
    }
   ],
   "source": [
    "retriever"
   ]
  },
  {
   "cell_type": "code",
   "execution_count": 29,
   "id": "d8ef6d45",
   "metadata": {},
   "outputs": [],
   "source": [
    "## Format the output documents for the prompt\n",
    "def format_docs(docs: List[Document]) -> str:\n",
    "    return \"\\n\\n\".join([doc.page_content for doc in docs])"
   ]
  },
  {
   "cell_type": "code",
   "execution_count": 30,
   "id": "08b63b15",
   "metadata": {},
   "outputs": [
    {
     "data": {
      "text/plain": [
       "{\n",
       "  context: VectorStoreRetriever(tags=['Chroma', 'HuggingFaceEmbeddings'], vectorstore=<langchain_community.vectorstores.chroma.Chroma object at 0x00000221E98BEE50>, search_kwargs={'k': 3})\n",
       "           | RunnableLambda(format_docs),\n",
       "  question: RunnablePassthrough()\n",
       "}\n",
       "| ChatPromptTemplate(input_variables=['context', 'question'], input_types={}, partial_variables={}, messages=[HumanMessagePromptTemplate(prompt=PromptTemplate(input_variables=['context', 'question'], input_types={}, partial_variables={}, template=\"Use the context provided to answer the question as accurately as possible.\\nIf the context does not contain the answer, respond with 'I don't know'.\\nUse three sentences maximum to answer the question and keep it concise.\\n\\nContext: {context}\\n\\nQuestion: {question}\\n\\nAnswer:\"), additional_kwargs={})])\n",
       "| ChatOllama(model='mistral:latest')\n",
       "| StrOutputParser()"
      ]
     },
     "execution_count": 30,
     "metadata": {},
     "output_type": "execute_result"
    }
   ],
   "source": [
    "## Build the RAG Chain using LCEL\n",
    "rag_chain_lcel = (\n",
    "    {\n",
    "        \"context\": retriever | format_docs,\n",
    "        \"question\": RunnablePassthrough()  # we use runnable passthrough to accept question input during runtime\n",
    "    }\n",
    "    | custom_prompt\n",
    "    | chat_model\n",
    "    | StrOutputParser()\n",
    ")\n",
    "\n",
    "rag_chain_lcel"
   ]
  },
  {
   "cell_type": "code",
   "execution_count": 31,
   "id": "976937cb",
   "metadata": {},
   "outputs": [
    {
     "data": {
      "text/plain": [
       "' The three main types of machine learning are Supervised Learning, Unsupervised Learning, and Reinforcement Learning. In Supervised Learning, labeled data is used to train models, while in Unsupervised Learning, patterns are found in unlabeled data. Reinforcement Learning involves training agents to make sequences of decisions by rewarding desired behaviors. Deep Learning, a subset of machine learning, utilizes neural networks with multiple layers to model complex patterns in data.'"
      ]
     },
     "execution_count": 31,
     "metadata": {},
     "output_type": "execute_result"
    }
   ],
   "source": [
    "response = rag_chain_lcel.invoke(\"Explain the different types of machine learning.\")\n",
    "response"
   ]
  },
  {
   "cell_type": "code",
   "execution_count": 32,
   "id": "764d01b0",
   "metadata": {},
   "outputs": [
    {
     "data": {
      "text/plain": [
       "[Document(metadata={'source': 'doc_0.txt'}, page_content='Machine Learning Fundamentals\\n\\n    Machine learning is a subset of artificial intelligence that focuses on building systems that can learn from and make decisions based on data. It involves various algorithms and statistical models that enable computers to perform specific tasks without explicit instructions. The key types of machine learning include supervised learning, unsupervised learning, and reinforcement learning. Supervised learning uses labeled data to train models, while unsupervised'),\n",
       " Document(metadata={'source': 'doc_0.txt'}, page_content='labeled data to train models, while unsupervised learning finds patterns in unlabeled data. Reinforcement learning involves training agents to make sequences of decisions by rewarding desired behaviors. Applications of machine learning span across various industries, including healthcare, finance, marketing, and more. Common algorithms used in machine learning include decision trees, support vector machines, neural networks, and clustering techniques. As the field continues to evolve,'),\n",
       " Document(metadata={'source': 'doc_2.txt'}, page_content='Deep Learning and Neural Networks\\n\\n    Deep learning is a subset of machine learning that focuses on using neural networks with multiple layers to model complex patterns in data. Neural networks are inspired by the structure and function of the human brain, consisting of interconnected nodes (neurons) that process information. Deep learning has revolutionized various fields, including computer vision, natural language processing, and speech recognition, by enabling the development of models that')]"
      ]
     },
     "execution_count": 32,
     "metadata": {},
     "output_type": "execute_result"
    }
   ],
   "source": [
    "context = retriever.invoke(\"Explain the different types of machine learning.\")\n",
    "context"
   ]
  },
  {
   "cell_type": "code",
   "execution_count": 33,
   "id": "4835bc7d",
   "metadata": {},
   "outputs": [],
   "source": [
    "# Query using the LCEL RAG Chain\n",
    "\n",
    "def query_rag_lcel(question: str) -> str:\n",
    "    print(f\"Question: {question}\")\n",
    "    print(\"-\"*50)\n",
    "\n",
    "    # Using create_retrieval_chain approach\n",
    "    result = rag_chain_lcel.invoke(question)\n",
    "\n",
    "    print(f\"Answer: {result}\")\n",
    "    \n",
    "    docs = retriever.invoke(question)\n",
    "    print(\"\\nSource Context:\")\n",
    "\n",
    "    for i, doc in enumerate(docs):\n",
    "        print(f\"\\n ----- Source {i+1} -----\")\n",
    "        print(doc.page_content[:200]+\"...\")\n",
    "\n",
    "\n",
    "test_questions = [\n",
    "    \"What are three types of machine learning?\",\n",
    "    \"What is Deep Learning and how does it relate to Neural Networks?\",\n",
    "    \"What are CNNs used for?\"\n",
    "]\n"
   ]
  },
  {
   "cell_type": "code",
   "execution_count": 34,
   "id": "9ef987e7",
   "metadata": {},
   "outputs": [
    {
     "name": "stdout",
     "output_type": "stream",
     "text": [
      "Question: What are three types of machine learning?\n",
      "--------------------------------------------------\n",
      "Answer:  The three types of machine learning are Supervised Learning, Unsupervised Learning, and Reinforcement Learning. In Supervised Learning, models are trained using labeled data. Unsupervised Learning finds patterns in unlabeled data. Lastly, Reinforcement Learning trains agents to make sequences of decisions by rewarding desired behaviors.\n",
      "\n",
      "Source Context:\n",
      "\n",
      " ----- Source 1 -----\n",
      "Machine Learning Fundamentals\n",
      "\n",
      "    Machine learning is a subset of artificial intelligence that focuses on building systems that can learn from and make decisions based on data. It involves various al...\n",
      "\n",
      " ----- Source 2 -----\n",
      "labeled data to train models, while unsupervised learning finds patterns in unlabeled data. Reinforcement learning involves training agents to make sequences of decisions by rewarding desired behavior...\n",
      "\n",
      " ----- Source 3 -----\n",
      "techniques. As the field continues to evolve, advancements in deep learning and neural networks are driving significant progress in areas such as computer vision, natural language processing, and auto...\n",
      "\n",
      "================================================================================\n",
      "\n",
      "Question: What is Deep Learning and how does it relate to Neural Networks?\n",
      "--------------------------------------------------\n",
      "Answer:  Deep Learning is a subset of Machine Learning that focuses on using neural networks with multiple layers to model complex patterns in data. These neural networks are inspired by the structure and function of the human brain, consisting of interconnected nodes (neurons) that process information. In essence, deep learning utilizes neural networks for its learning methodology.\n",
      "\n",
      "Source Context:\n",
      "\n",
      " ----- Source 1 -----\n",
      "Deep Learning and Neural Networks\n",
      "\n",
      "    Deep learning is a subset of machine learning that focuses on using neural networks with multiple layers to model complex patterns in data. Neural networks are i...\n",
      "\n",
      " ----- Source 2 -----\n",
      "by enabling the development of models that can automatically learn hierarchical representations of data. Key architectures in deep learning include convolutional neural networks (CNNs) for image proce...\n",
      "\n",
      " ----- Source 3 -----\n",
      "The success of deep learning has led to breakthroughs in applications such as autonomous vehicles, medical image analysis, and real-time language translation. As research continues, deep learning is e...\n",
      "\n",
      "================================================================================\n",
      "\n",
      "Question: What are CNNs used for?\n",
      "--------------------------------------------------\n",
      "Answer:  Convolutional Neural Networks (CNNs) are primarily used for image processing tasks, such as object recognition, facial detection, and classification. They excel in analyzing spatial data by convolving filters across the images to extract relevant features.\n",
      "\n",
      "Source Context:\n",
      "\n",
      " ----- Source 1 -----\n",
      "Deep Learning and Neural Networks\n",
      "\n",
      "    Deep learning is a subset of machine learning that focuses on using neural networks with multiple layers to model complex patterns in data. Neural networks are i...\n",
      "\n",
      " ----- Source 2 -----\n",
      "by enabling the development of models that can automatically learn hierarchical representations of data. Key architectures in deep learning include convolutional neural networks (CNNs) for image proce...\n",
      "\n",
      " ----- Source 3 -----\n",
      "techniques. As the field continues to evolve, advancements in deep learning and neural networks are driving significant progress in areas such as computer vision, natural language processing, and auto...\n",
      "\n",
      "================================================================================\n",
      "\n"
     ]
    }
   ],
   "source": [
    "for question in test_questions:\n",
    "    query_rag_lcel(question)\n",
    "    print(\"\\n\"+\"=\"*80+\"\\n\")"
   ]
  },
  {
   "cell_type": "markdown",
   "id": "208d5962",
   "metadata": {},
   "source": [
    "# Adding new documents to existing vector store"
   ]
  },
  {
   "cell_type": "code",
   "execution_count": 35,
   "id": "6fc3526d",
   "metadata": {},
   "outputs": [
    {
     "data": {
      "text/plain": [
       "<langchain_community.vectorstores.chroma.Chroma at 0x221e98bee50>"
      ]
     },
     "execution_count": 35,
     "metadata": {},
     "output_type": "execute_result"
    }
   ],
   "source": [
    "vectorstore"
   ]
  },
  {
   "cell_type": "code",
   "execution_count": 36,
   "id": "a32a6f0e",
   "metadata": {},
   "outputs": [],
   "source": [
    "# Adding new documents to existing vector store\n",
    "new_document = \"\"\"\n",
    "Convolutional Neural Networks (CNNs) in detail\n",
    "\n",
    "Convolutional Neural Networks (CNNs) are a class of deep learning models specifically designed for processing structured grid data, such as images. They utilize convolutional layers to automatically and adaptively learn spatial hierarchies of features from input data. CNNs are widely used in computer vision tasks, including image classification, object detection, and image segmentation, due to their ability to capture local patterns and reduce the number of parameters compared to fully connected networks. \n",
    "\n",
    "They have proven to be highly effective in various applications, such as facial recognition, medical image analysis, and autonomous driving, making them a fundamental component of modern AI systems.\n",
    "\"\"\""
   ]
  },
  {
   "cell_type": "code",
   "execution_count": 37,
   "id": "0c6842a1",
   "metadata": {},
   "outputs": [
    {
     "data": {
      "text/plain": [
       "[Document(metadata={'source': 'doc_0.txt'}, page_content='Machine Learning Fundamentals\\n\\n    Machine learning is a subset of artificial intelligence that focuses on building systems that can learn from and make decisions based on data. It involves various algorithms and statistical models that enable computers to perform specific tasks without explicit instructions. The key types of machine learning include supervised learning, unsupervised learning, and reinforcement learning. Supervised learning uses labeled data to train models, while unsupervised'),\n",
       " Document(metadata={'source': 'doc_0.txt'}, page_content='labeled data to train models, while unsupervised learning finds patterns in unlabeled data. Reinforcement learning involves training agents to make sequences of decisions by rewarding desired behaviors. Applications of machine learning span across various industries, including healthcare, finance, marketing, and more. Common algorithms used in machine learning include decision trees, support vector machines, neural networks, and clustering techniques. As the field continues to evolve,'),\n",
       " Document(metadata={'source': 'doc_0.txt'}, page_content='techniques. As the field continues to evolve, advancements in deep learning and neural networks are driving significant progress in areas such as computer vision, natural language processing, and autonomous systems.'),\n",
       " Document(metadata={'source': 'doc_1.txt'}, page_content='Natural Language Processing (NLP)\\n\\n    Natural Language Processing (NLP) is a branch of artificial intelligence that focuses on the interaction between computers and human language. It involves the development of algorithms and models that enable machines to understand, interpret, and generate human language in a way that is meaningful. NLP encompasses various tasks such as text classification, sentiment analysis, named entity recognition, machine translation, and speech recognition. Techniques'),\n",
       " Document(metadata={'source': 'doc_1.txt'}, page_content='translation, and speech recognition. Techniques used in NLP include tokenization, part-of-speech tagging, syntactic parsing, and semantic analysis. Recent advancements in NLP have been driven by deep learning models such as transformers, which have significantly improved the performance of language models like BERT and GPT. Applications of NLP are widespread, including chatbots, virtual assistants, automated customer support, and content recommendation systems. As NLP continues to advance, it'),\n",
       " Document(metadata={'source': 'doc_1.txt'}, page_content='systems. As NLP continues to advance, it plays a crucial role in enhancing human-computer interaction and enabling more natural communication with technology.'),\n",
       " Document(metadata={'source': 'doc_2.txt'}, page_content='Deep Learning and Neural Networks\\n\\n    Deep learning is a subset of machine learning that focuses on using neural networks with multiple layers to model complex patterns in data. Neural networks are inspired by the structure and function of the human brain, consisting of interconnected nodes (neurons) that process information. Deep learning has revolutionized various fields, including computer vision, natural language processing, and speech recognition, by enabling the development of models that'),\n",
       " Document(metadata={'source': 'doc_2.txt'}, page_content='by enabling the development of models that can automatically learn hierarchical representations of data. Key architectures in deep learning include convolutional neural networks (CNNs) for image processing, recurrent neural networks (RNNs) for sequential data, and transformers for language modeling. Training deep learning models typically requires large datasets and significant computational resources, often utilizing GPUs for efficient processing. The success of deep learning has led to'),\n",
       " Document(metadata={'source': 'doc_2.txt'}, page_content='The success of deep learning has led to breakthroughs in applications such as autonomous vehicles, medical image analysis, and real-time language translation. As research continues, deep learning is expected to drive further innovations in artificial intelligence and its applications across various domains.')]"
      ]
     },
     "execution_count": 37,
     "metadata": {},
     "output_type": "execute_result"
    }
   ],
   "source": [
    "chunks"
   ]
  },
  {
   "cell_type": "code",
   "execution_count": 38,
   "id": "c897e736",
   "metadata": {},
   "outputs": [],
   "source": [
    "from langchain_core.documents import Document\n",
    "\n",
    "new_doc = Document(page_content=new_document,\n",
    "                   metadata={\"source\": \"manual_addition\", \"topic\": \"CNNs\"})"
   ]
  },
  {
   "cell_type": "code",
   "execution_count": 39,
   "id": "1f8b554d",
   "metadata": {},
   "outputs": [
    {
     "data": {
      "text/plain": [
       "Document(metadata={'source': 'manual_addition', 'topic': 'CNNs'}, page_content='\\nConvolutional Neural Networks (CNNs) in detail\\n\\nConvolutional Neural Networks (CNNs) are a class of deep learning models specifically designed for processing structured grid data, such as images. They utilize convolutional layers to automatically and adaptively learn spatial hierarchies of features from input data. CNNs are widely used in computer vision tasks, including image classification, object detection, and image segmentation, due to their ability to capture local patterns and reduce the number of parameters compared to fully connected networks. \\n\\nThey have proven to be highly effective in various applications, such as facial recognition, medical image analysis, and autonomous driving, making them a fundamental component of modern AI systems.\\n')"
      ]
     },
     "execution_count": 39,
     "metadata": {},
     "output_type": "execute_result"
    }
   ],
   "source": [
    "new_doc"
   ]
  },
  {
   "cell_type": "code",
   "execution_count": 40,
   "id": "08bb244f",
   "metadata": {},
   "outputs": [],
   "source": [
    "new_chunks = text_splitter.split_documents([new_doc])"
   ]
  },
  {
   "cell_type": "code",
   "execution_count": 41,
   "id": "dcda47cb",
   "metadata": {},
   "outputs": [
    {
     "data": {
      "text/plain": [
       "['4eb80870-0e4c-4b2a-b281-ef47120152ba',\n",
       " 'eb813304-1e0b-4ec9-874a-e73920661d78']"
      ]
     },
     "execution_count": 41,
     "metadata": {},
     "output_type": "execute_result"
    }
   ],
   "source": [
    "# Add new chunks to existing vector store\n",
    "vectorstore.add_documents(new_chunks)"
   ]
  },
  {
   "cell_type": "code",
   "execution_count": 42,
   "id": "9dcef97c",
   "metadata": {},
   "outputs": [
    {
     "name": "stdout",
     "output_type": "stream",
     "text": [
      "Added 2 new chunks to the vector store.\n",
      "Updated vector store now has 11 vectors.\n"
     ]
    }
   ],
   "source": [
    "print(f\"Added {len(new_chunks)} new chunks to the vector store.\")\n",
    "print(f\"Updated vector store now has {vectorstore._collection.count()} vectors.\")"
   ]
  },
  {
   "cell_type": "code",
   "execution_count": 43,
   "id": "6fbb9c06",
   "metadata": {},
   "outputs": [
    {
     "name": "stdout",
     "output_type": "stream",
     "text": [
      "Question: What are Convolutional Neural Networks?\n",
      "--------------------------------------------------\n",
      "Answer:  Convolutional Neural Networks (CNNs) are a type of deep learning model that specializes in processing grid-structured data, such as images. They automatically and adaptively learn spatial hierarchies of features from input data using convolutional layers. Widely used in computer vision tasks like image classification, object detection, and image segmentation due to their ability to capture local patterns and reduce dimensionality.\n",
      "\n",
      "Source Context:\n",
      "\n",
      " ----- Source 1 -----\n",
      "Convolutional Neural Networks (CNNs) in detail\n",
      "\n",
      "Convolutional Neural Networks (CNNs) are a class of deep learning models specifically designed for processing structured grid data, such as images. They...\n",
      "\n",
      " ----- Source 2 -----\n",
      "Deep Learning and Neural Networks\n",
      "\n",
      "    Deep learning is a subset of machine learning that focuses on using neural networks with multiple layers to model complex patterns in data. Neural networks are i...\n",
      "\n",
      " ----- Source 3 -----\n",
      "by enabling the development of models that can automatically learn hierarchical representations of data. Key architectures in deep learning include convolutional neural networks (CNNs) for image proce...\n"
     ]
    }
   ],
   "source": [
    "#Query after adding new documents\n",
    "\n",
    "query = \"What are Convolutional Neural Networks?\"\n",
    "query_rag_lcel(query)"
   ]
  },
  {
   "cell_type": "markdown",
   "id": "ec239a52",
   "metadata": {},
   "source": [
    "# Advanced RAG Techniques- Conversational Memory\n",
    "\n",
    "- create_history_aware_retriever: Makes retriever understand conversation context\n",
    "- MessagesPlaceholder: Placeholder for chat history in prompts\n",
    "- HumanMessage, AIMessage: Structured Message types for conversation history"
   ]
  },
  {
   "cell_type": "code",
   "execution_count": 44,
   "id": "047d9b39",
   "metadata": {},
   "outputs": [],
   "source": [
    "from langchain_classic.chains import create_history_aware_retriever\n",
    "from langchain_core.prompts import MessagesPlaceholder\n",
    "from langchain_core.messages import HumanMessage, AIMessage"
   ]
  },
  {
   "cell_type": "code",
   "execution_count": 45,
   "id": "7f36dabb",
   "metadata": {},
   "outputs": [],
   "source": [
    "# create a prompt with chat history placeholder\n",
    "\n",
    "contextualized_q_system_prompt = \"\"\"Given a chat history and the latest user question which might reference context in the chat history, formulate a standalone question which can be understood without the chat history. Do NOT answer the question, just reformulate it if needed and otherwise return the question as is.\n",
    "\"\"\"\n",
    "\n",
    "contextualized_q_prompt = ChatPromptTemplate.from_messages([\n",
    "    (\"system\", contextualized_q_system_prompt),\n",
    "    MessagesPlaceholder(variable_name=\"chat_history\"),\n",
    "    (\"human\", \"{input}\")\n",
    "])"
   ]
  },
  {
   "cell_type": "code",
   "execution_count": 46,
   "id": "d7366a60",
   "metadata": {},
   "outputs": [
    {
     "data": {
      "text/plain": [
       "RunnableBinding(bound=RunnableBranch(branches=[(RunnableLambda(lambda x: not x.get('chat_history', False)), RunnableLambda(lambda x: x['input'])\n",
       "| VectorStoreRetriever(tags=['Chroma', 'HuggingFaceEmbeddings'], vectorstore=<langchain_community.vectorstores.chroma.Chroma object at 0x00000221E98BEE50>, search_kwargs={'k': 3}))], default=ChatPromptTemplate(input_variables=['chat_history', 'input'], input_types={'chat_history': list[typing.Annotated[typing.Union[typing.Annotated[langchain_core.messages.ai.AIMessage, Tag(tag='ai')], typing.Annotated[langchain_core.messages.human.HumanMessage, Tag(tag='human')], typing.Annotated[langchain_core.messages.chat.ChatMessage, Tag(tag='chat')], typing.Annotated[langchain_core.messages.system.SystemMessage, Tag(tag='system')], typing.Annotated[langchain_core.messages.function.FunctionMessage, Tag(tag='function')], typing.Annotated[langchain_core.messages.tool.ToolMessage, Tag(tag='tool')], typing.Annotated[langchain_core.messages.ai.AIMessageChunk, Tag(tag='AIMessageChunk')], typing.Annotated[langchain_core.messages.human.HumanMessageChunk, Tag(tag='HumanMessageChunk')], typing.Annotated[langchain_core.messages.chat.ChatMessageChunk, Tag(tag='ChatMessageChunk')], typing.Annotated[langchain_core.messages.system.SystemMessageChunk, Tag(tag='SystemMessageChunk')], typing.Annotated[langchain_core.messages.function.FunctionMessageChunk, Tag(tag='FunctionMessageChunk')], typing.Annotated[langchain_core.messages.tool.ToolMessageChunk, Tag(tag='ToolMessageChunk')]], FieldInfo(annotation=NoneType, required=True, discriminator=Discriminator(discriminator=<function _get_type at 0x000002219AB4DEE0>, custom_error_type=None, custom_error_message=None, custom_error_context=None))]]}, partial_variables={}, messages=[SystemMessagePromptTemplate(prompt=PromptTemplate(input_variables=[], input_types={}, partial_variables={}, template='Given a chat history and the latest user question which might reference context in the chat history, formulate a standalone question which can be understood without the chat history. Do NOT answer the question, just reformulate it if needed and otherwise return the question as is.\\n'), additional_kwargs={}), MessagesPlaceholder(variable_name='chat_history'), HumanMessagePromptTemplate(prompt=PromptTemplate(input_variables=['input'], input_types={}, partial_variables={}, template='{input}'), additional_kwargs={})])\n",
       "| ChatOllama(model='mistral:latest')\n",
       "| StrOutputParser()\n",
       "| VectorStoreRetriever(tags=['Chroma', 'HuggingFaceEmbeddings'], vectorstore=<langchain_community.vectorstores.chroma.Chroma object at 0x00000221E98BEE50>, search_kwargs={'k': 3})), kwargs={}, config={'run_name': 'chat_retriever_chain'}, config_factories=[])"
      ]
     },
     "execution_count": 46,
     "metadata": {},
     "output_type": "execute_result"
    }
   ],
   "source": [
    "## create a history aware retriever\n",
    "history_aware_retriever = create_history_aware_retriever(llm, retriever, contextualized_q_prompt)\n",
    "history_aware_retriever"
   ]
  },
  {
   "cell_type": "code",
   "execution_count": 47,
   "id": "3453c3f6",
   "metadata": {},
   "outputs": [
    {
     "name": "stdout",
     "output_type": "stream",
     "text": [
      "Conversational RAG Chain created.\n"
     ]
    }
   ],
   "source": [
    "# Create a new document chain with history\n",
    "\n",
    "\n",
    "qa_system_prompt = \"\"\"You are an assistant for question-answering tasks.\n",
    "Use the context provided to answer the question as accurately as possible.\n",
    "If the context does not contain the answer, respond with 'I don't know'.\n",
    "Use three sentences maximum to answer the question and keep it concise.\n",
    "\n",
    "Context: {context}\"\"\"\n",
    "\n",
    "qa_prompt = ChatPromptTemplate.from_messages([\n",
    "    (\"system\", qa_system_prompt),\n",
    "    MessagesPlaceholder(variable_name=\"chat_history\"),\n",
    "    (\"human\", \"{input}\")\n",
    "])\n",
    "\n",
    "queston_answer_chain = create_stuff_documents_chain(llm, qa_prompt)\n",
    "\n",
    "# Create conversational RAG chain\n",
    "conversational_rag_chain = create_retrieval_chain(\n",
    "    history_aware_retriever,\n",
    "    queston_answer_chain\n",
    ")\n",
    "\n",
    "print(\"Conversational RAG Chain created.\")"
   ]
  },
  {
   "cell_type": "code",
   "execution_count": 48,
   "id": "963e4a33",
   "metadata": {},
   "outputs": [
    {
     "name": "stdout",
     "output_type": "stream",
     "text": [
      "Question: What is machine learning?\n",
      "Answer:  Machine Learning is a subset of Artificial Intelligence that enables computers to learn from data without being explicitly programmed. It uses algorithms and statistical models to make decisions or perform specific tasks. The key types include supervised learning (with labeled data), unsupervised learning (without labeled data), and reinforcement learning (involving rewards for desired behaviors).\n"
     ]
    }
   ],
   "source": [
    "chat_history = []\n",
    "#First Query\n",
    "response1 = conversational_rag_chain.invoke({\n",
    "    \"input\": \"What is machine learning?\",\n",
    "    \"chat_history\": chat_history\n",
    "})\n",
    "\n",
    "print(f\"Question: What is machine learning?\")\n",
    "print(f\"Answer: {response1['answer']}\")"
   ]
  },
  {
   "cell_type": "code",
   "execution_count": 49,
   "id": "5855801d",
   "metadata": {},
   "outputs": [],
   "source": [
    "chat_history\n",
    "\n",
    "chat_history.extend([HumanMessage(content=\"What is machine learning?\"),\n",
    "                    AIMessage(content=response1['answer'])])"
   ]
  },
  {
   "cell_type": "code",
   "execution_count": 50,
   "id": "10853bd8",
   "metadata": {},
   "outputs": [
    {
     "name": "stdout",
     "output_type": "stream",
     "text": [
      "Question: What are its main types?\n",
      "Answer:  The main types of machine learning are supervised learning, unsupervised learning, and reinforcement learning. Supervised learning uses labeled data to train models, while unsupervised learning finds patterns in unlabeled data. Reinforcement learning involves training agents to make sequences of decisions by rewarding desired behaviors.\n"
     ]
    },
    {
     "data": {
      "text/plain": [
       "{'input': 'What are its main types?',\n",
       " 'chat_history': [HumanMessage(content='What is machine learning?', additional_kwargs={}, response_metadata={}),\n",
       "  AIMessage(content=' Machine Learning is a subset of Artificial Intelligence that enables computers to learn from data without being explicitly programmed. It uses algorithms and statistical models to make decisions or perform specific tasks. The key types include supervised learning (with labeled data), unsupervised learning (without labeled data), and reinforcement learning (involving rewards for desired behaviors).', additional_kwargs={}, response_metadata={})],\n",
       " 'context': [Document(metadata={'source': 'doc_0.txt'}, page_content='Machine Learning Fundamentals\\n\\n    Machine learning is a subset of artificial intelligence that focuses on building systems that can learn from and make decisions based on data. It involves various algorithms and statistical models that enable computers to perform specific tasks without explicit instructions. The key types of machine learning include supervised learning, unsupervised learning, and reinforcement learning. Supervised learning uses labeled data to train models, while unsupervised'),\n",
       "  Document(metadata={'source': 'doc_0.txt'}, page_content='labeled data to train models, while unsupervised learning finds patterns in unlabeled data. Reinforcement learning involves training agents to make sequences of decisions by rewarding desired behaviors. Applications of machine learning span across various industries, including healthcare, finance, marketing, and more. Common algorithms used in machine learning include decision trees, support vector machines, neural networks, and clustering techniques. As the field continues to evolve,'),\n",
       "  Document(metadata={'source': 'doc_0.txt'}, page_content='techniques. As the field continues to evolve, advancements in deep learning and neural networks are driving significant progress in areas such as computer vision, natural language processing, and autonomous systems.')],\n",
       " 'answer': ' The main types of machine learning are supervised learning, unsupervised learning, and reinforcement learning. Supervised learning uses labeled data to train models, while unsupervised learning finds patterns in unlabeled data. Reinforcement learning involves training agents to make sequences of decisions by rewarding desired behaviors.'}"
      ]
     },
     "execution_count": 50,
     "metadata": {},
     "output_type": "execute_result"
    }
   ],
   "source": [
    "# Follow-up Query\n",
    "response2 = conversational_rag_chain.invoke({\n",
    "    \"input\": \"What are its main types?\",\n",
    "    \"chat_history\": chat_history\n",
    "})\n",
    "\n",
    "print(f\"Question: What are its main types?\")\n",
    "print(f\"Answer: {response2['answer']}\")\n",
    "\n",
    "response2"
   ]
  }
 ],
 "metadata": {
  "kernelspec": {
   "display_name": "RAGUdemy",
   "language": "python",
   "name": "python3"
  },
  "language_info": {
   "codemirror_mode": {
    "name": "ipython",
    "version": 3
   },
   "file_extension": ".py",
   "mimetype": "text/x-python",
   "name": "python",
   "nbconvert_exporter": "python",
   "pygments_lexer": "ipython3",
   "version": "3.11.9"
  }
 },
 "nbformat": 4,
 "nbformat_minor": 5
}
