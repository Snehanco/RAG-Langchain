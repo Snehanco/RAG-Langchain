{
 "cells": [
  {
   "cell_type": "markdown",
   "id": "1d16fc8f",
   "metadata": {},
   "source": [
    "## Build a RAG System with Langchain and ChromaDB"
   ]
  },
  {
   "cell_type": "code",
   "execution_count": 89,
   "id": "91599138",
   "metadata": {},
   "outputs": [
    {
     "data": {
      "text/plain": [
       "True"
      ]
     },
     "execution_count": 89,
     "metadata": {},
     "output_type": "execute_result"
    }
   ],
   "source": [
    "import os\n",
    "from dotenv import load_dotenv\n",
    "load_dotenv()"
   ]
  },
  {
   "cell_type": "code",
   "execution_count": 90,
   "id": "f7c0e21f",
   "metadata": {},
   "outputs": [],
   "source": [
    "# Langchain Imports\n",
    "\n",
    "from langchain_text_splitters import RecursiveCharacterTextSplitter\n",
    "from langchain_community.document_loaders import TextLoader\n",
    "from langchain_huggingface import HuggingFaceEmbeddings\n",
    "from langchain_core.documents import Document\n",
    "\n",
    "# vector stores\n",
    "from langchain_community.vectorstores import Chroma\n",
    "\n",
    "# Utility imports\n",
    "import numpy as np\n",
    "from typing import List"
   ]
  },
  {
   "cell_type": "code",
   "execution_count": 91,
   "id": "abcfeda2",
   "metadata": {},
   "outputs": [
    {
     "data": {
      "text/plain": [
       "['\\n    Machine Learning Fundamentals\\n\\n    Machine learning is a subset of artificial intelligence that focuses on building systems that can learn from and make decisions based on data. It involves various algorithms and statistical models that enable computers to perform specific tasks without explicit instructions. The key types of machine learning include supervised learning, unsupervised learning, and reinforcement learning. Supervised learning uses labeled data to train models, while unsupervised learning finds patterns in unlabeled data. Reinforcement learning involves training agents to make sequences of decisions by rewarding desired behaviors. Applications of machine learning span across various industries, including healthcare, finance, marketing, and more. Common algorithms used in machine learning include decision trees, support vector machines, neural networks, and clustering techniques. As the field continues to evolve, advancements in deep learning and neural networks are driving significant progress in areas such as computer vision, natural language processing, and autonomous systems.\\n    ',\n",
       " '\\n    Natural Language Processing (NLP)\\n\\n    Natural Language Processing (NLP) is a branch of artificial intelligence that focuses on the interaction between computers and human language. It involves the development of algorithms and models that enable machines to understand, interpret, and generate human language in a way that is meaningful. NLP encompasses various tasks such as text classification, sentiment analysis, named entity recognition, machine translation, and speech recognition. Techniques used in NLP include tokenization, part-of-speech tagging, syntactic parsing, and semantic analysis. Recent advancements in NLP have been driven by deep learning models such as transformers, which have significantly improved the performance of language models like BERT and GPT. Applications of NLP are widespread, including chatbots, virtual assistants, automated customer support, and content recommendation systems. As NLP continues to advance, it plays a crucial role in enhancing human-computer interaction and enabling more natural communication with technology.\\n    ',\n",
       " '\\n    Deep Learning and Neural Networks\\n\\n    Deep learning is a subset of machine learning that focuses on using neural networks with multiple layers to model complex patterns in data. Neural networks are inspired by the structure and function of the human brain, consisting of interconnected nodes (neurons) that process information. Deep learning has revolutionized various fields, including computer vision, natural language processing, and speech recognition, by enabling the development of models that can automatically learn hierarchical representations of data. Key architectures in deep learning include convolutional neural networks (CNNs) for image processing, recurrent neural networks (RNNs) for sequential data, and transformers for language modeling. Training deep learning models typically requires large datasets and significant computational resources, often utilizing GPUs for efficient processing. The success of deep learning has led to breakthroughs in applications such as autonomous vehicles, medical image analysis, and real-time language translation. As research continues, deep learning is expected to drive further innovations in artificial intelligence and its applications across various domains.\\n    ']"
      ]
     },
     "execution_count": 91,
     "metadata": {},
     "output_type": "execute_result"
    }
   ],
   "source": [
    "sample_docs = [\n",
    "    \"\"\"\n",
    "    Machine Learning Fundamentals\n",
    "\n",
    "    Machine learning is a subset of artificial intelligence that focuses on building systems that can learn from and make decisions based on data. It involves various algorithms and statistical models that enable computers to perform specific tasks without explicit instructions. The key types of machine learning include supervised learning, unsupervised learning, and reinforcement learning. Supervised learning uses labeled data to train models, while unsupervised learning finds patterns in unlabeled data. Reinforcement learning involves training agents to make sequences of decisions by rewarding desired behaviors. Applications of machine learning span across various industries, including healthcare, finance, marketing, and more. Common algorithms used in machine learning include decision trees, support vector machines, neural networks, and clustering techniques. As the field continues to evolve, advancements in deep learning and neural networks are driving significant progress in areas such as computer vision, natural language processing, and autonomous systems.\n",
    "    \"\"\",\n",
    "\n",
    "    \"\"\"\n",
    "    Natural Language Processing (NLP)\n",
    "\n",
    "    Natural Language Processing (NLP) is a branch of artificial intelligence that focuses on the interaction between computers and human language. It involves the development of algorithms and models that enable machines to understand, interpret, and generate human language in a way that is meaningful. NLP encompasses various tasks such as text classification, sentiment analysis, named entity recognition, machine translation, and speech recognition. Techniques used in NLP include tokenization, part-of-speech tagging, syntactic parsing, and semantic analysis. Recent advancements in NLP have been driven by deep learning models such as transformers, which have significantly improved the performance of language models like BERT and GPT. Applications of NLP are widespread, including chatbots, virtual assistants, automated customer support, and content recommendation systems. As NLP continues to advance, it plays a crucial role in enhancing human-computer interaction and enabling more natural communication with technology.\n",
    "    \"\"\",\n",
    "    \"\"\"\n",
    "    Deep Learning and Neural Networks\n",
    "\n",
    "    Deep learning is a subset of machine learning that focuses on using neural networks with multiple layers to model complex patterns in data. Neural networks are inspired by the structure and function of the human brain, consisting of interconnected nodes (neurons) that process information. Deep learning has revolutionized various fields, including computer vision, natural language processing, and speech recognition, by enabling the development of models that can automatically learn hierarchical representations of data. Key architectures in deep learning include convolutional neural networks (CNNs) for image processing, recurrent neural networks (RNNs) for sequential data, and transformers for language modeling. Training deep learning models typically requires large datasets and significant computational resources, often utilizing GPUs for efficient processing. The success of deep learning has led to breakthroughs in applications such as autonomous vehicles, medical image analysis, and real-time language translation. As research continues, deep learning is expected to drive further innovations in artificial intelligence and its applications across various domains.\n",
    "    \"\"\"\n",
    "]\n",
    "\n",
    "sample_docs"
   ]
  },
  {
   "cell_type": "code",
   "execution_count": 92,
   "id": "60ae12d7",
   "metadata": {},
   "outputs": [
    {
     "name": "stdout",
     "output_type": "stream",
     "text": [
      "Sample documents saved to root\n"
     ]
    }
   ],
   "source": [
    "### save sample documents to files\n",
    "import tempfile\n",
    "# temp_dir= tempfile.mkdtemp()\n",
    "\n",
    "for i, doc in enumerate(sample_docs):\n",
    "    # with open(os.path.join(temp_dir, f\"doc_{i}.txt\"), \"w\") as f:\n",
    "    #     f.write(doc)\n",
    "    with open(f\"doc_{i}.txt\", \"w\") as f:\n",
    "        f.write(doc.strip())\n",
    "\n",
    "print(f\"Sample documents saved to root\")"
   ]
  },
  {
   "cell_type": "markdown",
   "id": "62c456ea",
   "metadata": {},
   "source": [
    "## Document Loading"
   ]
  },
  {
   "cell_type": "code",
   "execution_count": 93,
   "id": "c21cf611",
   "metadata": {},
   "outputs": [
    {
     "name": "stdout",
     "output_type": "stream",
     "text": [
      "Loaded 3 documents.\n",
      "First document content:\n",
      "Machine Learning Fundamentals\n",
      "\n",
      "    Machine learning is a subset of artificial intelligence that focuses on building systems that can learn from and make decisions based on data. It involves various al\n"
     ]
    }
   ],
   "source": [
    "from langchain_community.document_loaders import DirectoryLoader\n",
    "\n",
    "loader = DirectoryLoader('.', glob='doc_*.txt', loader_cls=TextLoader, loader_kwargs={'encoding': 'utf-8'})\n",
    "\n",
    "documents = loader.load()\n",
    "\n",
    "print(f\"Loaded {len(documents)} documents.\")\n",
    "print(\"First document content:\")\n",
    "print(documents[0].page_content[:200])  # print first 200 characters of the first document"
   ]
  },
  {
   "cell_type": "code",
   "execution_count": 94,
   "id": "57946582",
   "metadata": {},
   "outputs": [
    {
     "data": {
      "text/plain": [
       "[Document(metadata={'source': 'doc_0.txt'}, page_content='Machine Learning Fundamentals\\n\\n    Machine learning is a subset of artificial intelligence that focuses on building systems that can learn from and make decisions based on data. It involves various algorithms and statistical models that enable computers to perform specific tasks without explicit instructions. The key types of machine learning include supervised learning, unsupervised learning, and reinforcement learning. Supervised learning uses labeled data to train models, while unsupervised learning finds patterns in unlabeled data. Reinforcement learning involves training agents to make sequences of decisions by rewarding desired behaviors. Applications of machine learning span across various industries, including healthcare, finance, marketing, and more. Common algorithms used in machine learning include decision trees, support vector machines, neural networks, and clustering techniques. As the field continues to evolve, advancements in deep learning and neural networks are driving significant progress in areas such as computer vision, natural language processing, and autonomous systems.'),\n",
       " Document(metadata={'source': 'doc_1.txt'}, page_content='Natural Language Processing (NLP)\\n\\n    Natural Language Processing (NLP) is a branch of artificial intelligence that focuses on the interaction between computers and human language. It involves the development of algorithms and models that enable machines to understand, interpret, and generate human language in a way that is meaningful. NLP encompasses various tasks such as text classification, sentiment analysis, named entity recognition, machine translation, and speech recognition. Techniques used in NLP include tokenization, part-of-speech tagging, syntactic parsing, and semantic analysis. Recent advancements in NLP have been driven by deep learning models such as transformers, which have significantly improved the performance of language models like BERT and GPT. Applications of NLP are widespread, including chatbots, virtual assistants, automated customer support, and content recommendation systems. As NLP continues to advance, it plays a crucial role in enhancing human-computer interaction and enabling more natural communication with technology.'),\n",
       " Document(metadata={'source': 'doc_2.txt'}, page_content='Deep Learning and Neural Networks\\n\\n    Deep learning is a subset of machine learning that focuses on using neural networks with multiple layers to model complex patterns in data. Neural networks are inspired by the structure and function of the human brain, consisting of interconnected nodes (neurons) that process information. Deep learning has revolutionized various fields, including computer vision, natural language processing, and speech recognition, by enabling the development of models that can automatically learn hierarchical representations of data. Key architectures in deep learning include convolutional neural networks (CNNs) for image processing, recurrent neural networks (RNNs) for sequential data, and transformers for language modeling. Training deep learning models typically requires large datasets and significant computational resources, often utilizing GPUs for efficient processing. The success of deep learning has led to breakthroughs in applications such as autonomous vehicles, medical image analysis, and real-time language translation. As research continues, deep learning is expected to drive further innovations in artificial intelligence and its applications across various domains.')]"
      ]
     },
     "execution_count": 94,
     "metadata": {},
     "output_type": "execute_result"
    }
   ],
   "source": [
    "documents"
   ]
  },
  {
   "cell_type": "markdown",
   "id": "52ec19d0",
   "metadata": {},
   "source": [
    "## Document Splitting"
   ]
  },
  {
   "cell_type": "code",
   "execution_count": 95,
   "id": "c33596c2",
   "metadata": {},
   "outputs": [
    {
     "data": {
      "text/plain": [
       "[Document(metadata={'source': 'doc_0.txt'}, page_content='Machine Learning Fundamentals\\n\\n    Machine learning is a subset of artificial intelligence that focuses on building systems that can learn from and make decisions based on data. It involves various algorithms and statistical models that enable computers to perform specific tasks without explicit instructions. The key types of machine learning include supervised learning, unsupervised learning, and reinforcement learning. Supervised learning uses labeled data to train models, while unsupervised'),\n",
       " Document(metadata={'source': 'doc_0.txt'}, page_content='labeled data to train models, while unsupervised learning finds patterns in unlabeled data. Reinforcement learning involves training agents to make sequences of decisions by rewarding desired behaviors. Applications of machine learning span across various industries, including healthcare, finance, marketing, and more. Common algorithms used in machine learning include decision trees, support vector machines, neural networks, and clustering techniques. As the field continues to evolve,'),\n",
       " Document(metadata={'source': 'doc_0.txt'}, page_content='techniques. As the field continues to evolve, advancements in deep learning and neural networks are driving significant progress in areas such as computer vision, natural language processing, and autonomous systems.'),\n",
       " Document(metadata={'source': 'doc_1.txt'}, page_content='Natural Language Processing (NLP)\\n\\n    Natural Language Processing (NLP) is a branch of artificial intelligence that focuses on the interaction between computers and human language. It involves the development of algorithms and models that enable machines to understand, interpret, and generate human language in a way that is meaningful. NLP encompasses various tasks such as text classification, sentiment analysis, named entity recognition, machine translation, and speech recognition. Techniques'),\n",
       " Document(metadata={'source': 'doc_1.txt'}, page_content='translation, and speech recognition. Techniques used in NLP include tokenization, part-of-speech tagging, syntactic parsing, and semantic analysis. Recent advancements in NLP have been driven by deep learning models such as transformers, which have significantly improved the performance of language models like BERT and GPT. Applications of NLP are widespread, including chatbots, virtual assistants, automated customer support, and content recommendation systems. As NLP continues to advance, it'),\n",
       " Document(metadata={'source': 'doc_1.txt'}, page_content='systems. As NLP continues to advance, it plays a crucial role in enhancing human-computer interaction and enabling more natural communication with technology.'),\n",
       " Document(metadata={'source': 'doc_2.txt'}, page_content='Deep Learning and Neural Networks\\n\\n    Deep learning is a subset of machine learning that focuses on using neural networks with multiple layers to model complex patterns in data. Neural networks are inspired by the structure and function of the human brain, consisting of interconnected nodes (neurons) that process information. Deep learning has revolutionized various fields, including computer vision, natural language processing, and speech recognition, by enabling the development of models that'),\n",
       " Document(metadata={'source': 'doc_2.txt'}, page_content='by enabling the development of models that can automatically learn hierarchical representations of data. Key architectures in deep learning include convolutional neural networks (CNNs) for image processing, recurrent neural networks (RNNs) for sequential data, and transformers for language modeling. Training deep learning models typically requires large datasets and significant computational resources, often utilizing GPUs for efficient processing. The success of deep learning has led to'),\n",
       " Document(metadata={'source': 'doc_2.txt'}, page_content='The success of deep learning has led to breakthroughs in applications such as autonomous vehicles, medical image analysis, and real-time language translation. As research continues, deep learning is expected to drive further innovations in artificial intelligence and its applications across various domains.')]"
      ]
     },
     "execution_count": 95,
     "metadata": {},
     "output_type": "execute_result"
    }
   ],
   "source": [
    "# Initialize Text Splitter\n",
    "text_splitter = RecursiveCharacterTextSplitter(\n",
    "    chunk_size=500,\n",
    "    chunk_overlap=50,\n",
    "    length_function=len,\n",
    "    separators=[\" \"] # Hierarchy of separators\n",
    ")\n",
    "\n",
    "chunks = text_splitter.split_documents(documents)\n",
    "\n",
    "chunks"
   ]
  },
  {
   "cell_type": "markdown",
   "id": "d638dc71",
   "metadata": {},
   "source": [
    "## Initialize ChromaDB Vector store and store the chunks"
   ]
  },
  {
   "cell_type": "code",
   "execution_count": 96,
   "id": "a80a2c89",
   "metadata": {},
   "outputs": [
    {
     "name": "stdout",
     "output_type": "stream",
     "text": [
      "Vector store created with 45 vectors.\n",
      "Vectors persisted in directory: ./chroma_db\n"
     ]
    }
   ],
   "source": [
    "## Create a ChromaDB Vector Store\n",
    "\n",
    "persist_directory = './chroma_db'\n",
    "\n",
    "## Initialize ChromaDB with HuggingFace Embeddings\n",
    "vectorstore = Chroma.from_documents(\n",
    "    documents=chunks,\n",
    "    embedding=HuggingFaceEmbeddings(model_name=\"sentence-transformers/all-MiniLM-L6-v2\"),\n",
    "    persist_directory=persist_directory,\n",
    "    collection_name=\"rag_collection\"\n",
    ")\n",
    "\n",
    "print(f\"Vector store created with {vectorstore._collection.count()} vectors.\")\n",
    "print(f\"Vectors persisted in directory: {persist_directory}\")"
   ]
  },
  {
   "cell_type": "markdown",
   "id": "c79a37e6",
   "metadata": {},
   "source": [
    "### Test Similarity search"
   ]
  },
  {
   "cell_type": "code",
   "execution_count": 97,
   "id": "23ba9f22",
   "metadata": {},
   "outputs": [
    {
     "data": {
      "text/plain": [
       "[Document(metadata={'source': 'doc_0.txt'}, page_content='Machine Learning Fundamentals\\n\\n    Machine learning is a subset of artificial intelligence that focuses on building systems that can learn from and make decisions based on data. It involves various algorithms and statistical models that enable computers to perform specific tasks without explicit instructions. The key types of machine learning include supervised learning, unsupervised learning, and reinforcement learning. Supervised learning uses labeled data to train models, while unsupervised'),\n",
       " Document(metadata={'source': 'doc_0.txt'}, page_content='Machine Learning Fundamentals\\n\\n    Machine learning is a subset of artificial intelligence that focuses on building systems that can learn from and make decisions based on data. It involves various algorithms and statistical models that enable computers to perform specific tasks without explicit instructions. The key types of machine learning include supervised learning, unsupervised learning, and reinforcement learning. Supervised learning uses labeled data to train models, while unsupervised'),\n",
       " Document(metadata={'source': 'doc_0.txt'}, page_content='Machine Learning Fundamentals\\n\\n    Machine learning is a subset of artificial intelligence that focuses on building systems that can learn from and make decisions based on data. It involves various algorithms and statistical models that enable computers to perform specific tasks without explicit instructions. The key types of machine learning include supervised learning, unsupervised learning, and reinforcement learning. Supervised learning uses labeled data to train models, while unsupervised')]"
      ]
     },
     "execution_count": 97,
     "metadata": {},
     "output_type": "execute_result"
    }
   ],
   "source": [
    "query = \"What are types of machine learning?\"\n",
    "\n",
    "similar_docs = vectorstore.similarity_search(query, k=3)\n",
    "\n",
    "similar_docs"
   ]
  },
  {
   "cell_type": "code",
   "execution_count": 98,
   "id": "046ba891",
   "metadata": {},
   "outputs": [
    {
     "data": {
      "text/plain": [
       "[Document(metadata={'source': 'doc_1.txt'}, page_content='Natural Language Processing (NLP)\\n\\n    Natural Language Processing (NLP) is a branch of artificial intelligence that focuses on the interaction between computers and human language. It involves the development of algorithms and models that enable machines to understand, interpret, and generate human language in a way that is meaningful. NLP encompasses various tasks such as text classification, sentiment analysis, named entity recognition, machine translation, and speech recognition. Techniques'),\n",
       " Document(metadata={'source': 'doc_1.txt'}, page_content='Natural Language Processing (NLP)\\n\\n    Natural Language Processing (NLP) is a branch of artificial intelligence that focuses on the interaction between computers and human language. It involves the development of algorithms and models that enable machines to understand, interpret, and generate human language in a way that is meaningful. NLP encompasses various tasks such as text classification, sentiment analysis, named entity recognition, machine translation, and speech recognition. Techniques'),\n",
       " Document(metadata={'source': 'doc_1.txt'}, page_content='Natural Language Processing (NLP)\\n\\n    Natural Language Processing (NLP) is a branch of artificial intelligence that focuses on the interaction between computers and human language. It involves the development of algorithms and models that enable machines to understand, interpret, and generate human language in a way that is meaningful. NLP encompasses various tasks such as text classification, sentiment analysis, named entity recognition, machine translation, and speech recognition. Techniques')]"
      ]
     },
     "execution_count": 98,
     "metadata": {},
     "output_type": "execute_result"
    }
   ],
   "source": [
    "query = \"What is NLP?\"\n",
    "\n",
    "similar_docs = vectorstore.similarity_search(query, k=3)\n",
    "\n",
    "similar_docs"
   ]
  },
  {
   "cell_type": "code",
   "execution_count": 99,
   "id": "145374ff",
   "metadata": {},
   "outputs": [
    {
     "data": {
      "text/plain": [
       "[Document(metadata={'source': 'doc_2.txt'}, page_content='Deep Learning and Neural Networks\\n\\n    Deep learning is a subset of machine learning that focuses on using neural networks with multiple layers to model complex patterns in data. Neural networks are inspired by the structure and function of the human brain, consisting of interconnected nodes (neurons) that process information. Deep learning has revolutionized various fields, including computer vision, natural language processing, and speech recognition, by enabling the development of models that'),\n",
       " Document(metadata={'source': 'doc_2.txt'}, page_content='Deep Learning and Neural Networks\\n\\n    Deep learning is a subset of machine learning that focuses on using neural networks with multiple layers to model complex patterns in data. Neural networks are inspired by the structure and function of the human brain, consisting of interconnected nodes (neurons) that process information. Deep learning has revolutionized various fields, including computer vision, natural language processing, and speech recognition, by enabling the development of models that'),\n",
       " Document(metadata={'source': 'doc_2.txt'}, page_content='Deep Learning and Neural Networks\\n\\n    Deep learning is a subset of machine learning that focuses on using neural networks with multiple layers to model complex patterns in data. Neural networks are inspired by the structure and function of the human brain, consisting of interconnected nodes (neurons) that process information. Deep learning has revolutionized various fields, including computer vision, natural language processing, and speech recognition, by enabling the development of models that')]"
      ]
     },
     "execution_count": 99,
     "metadata": {},
     "output_type": "execute_result"
    }
   ],
   "source": [
    "query = \"What is deep learning?\"\n",
    "\n",
    "similar_docs = vectorstore.similarity_search(query, k=3)\n",
    "\n",
    "similar_docs"
   ]
  },
  {
   "cell_type": "markdown",
   "id": "1d74b571",
   "metadata": {},
   "source": [
    "### Advanced Similarity Search with Scores"
   ]
  },
  {
   "cell_type": "code",
   "execution_count": 100,
   "id": "6932184d",
   "metadata": {},
   "outputs": [
    {
     "data": {
      "text/plain": [
       "[(Document(metadata={'source': 'doc_2.txt'}, page_content='Deep Learning and Neural Networks\\n\\n    Deep learning is a subset of machine learning that focuses on using neural networks with multiple layers to model complex patterns in data. Neural networks are inspired by the structure and function of the human brain, consisting of interconnected nodes (neurons) that process information. Deep learning has revolutionized various fields, including computer vision, natural language processing, and speech recognition, by enabling the development of models that'),\n",
       "  0.5512487888336182),\n",
       " (Document(metadata={'source': 'doc_2.txt'}, page_content='Deep Learning and Neural Networks\\n\\n    Deep learning is a subset of machine learning that focuses on using neural networks with multiple layers to model complex patterns in data. Neural networks are inspired by the structure and function of the human brain, consisting of interconnected nodes (neurons) that process information. Deep learning has revolutionized various fields, including computer vision, natural language processing, and speech recognition, by enabling the development of models that'),\n",
       "  0.5512487888336182),\n",
       " (Document(metadata={'source': 'doc_2.txt'}, page_content='Deep Learning and Neural Networks\\n\\n    Deep learning is a subset of machine learning that focuses on using neural networks with multiple layers to model complex patterns in data. Neural networks are inspired by the structure and function of the human brain, consisting of interconnected nodes (neurons) that process information. Deep learning has revolutionized various fields, including computer vision, natural language processing, and speech recognition, by enabling the development of models that'),\n",
       "  0.5512487888336182)]"
      ]
     },
     "execution_count": 100,
     "metadata": {},
     "output_type": "execute_result"
    }
   ],
   "source": [
    "result_scores= vectorstore.similarity_search_with_score(query, k=3)\n",
    "result_scores"
   ]
  },
  {
   "cell_type": "markdown",
   "id": "57d135fb",
   "metadata": {},
   "source": [
    "### Understanding Similarity Scores\n",
    "\n",
    "The similarity score represents how closely related a document chunk is to your query, The scoring depends on the distance metric used:\n",
    "\n",
    "ChromaDB by default uses L2 distance (Euclidean distance)\n",
    "- Lower scores =  MORE similar (closer in vector space)\n",
    "- Score of 0 =  identical vectors\n",
    "- Typical range: 0 to 2 (but can be higher)\n",
    "\n",
    "Cosine similarity (if configured):\n",
    "\n",
    "- Higher scores =  MORE similar\n",
    "- Range: -1 to 1 (1 being identical)"
   ]
  },
  {
   "cell_type": "markdown",
   "id": "8d180556",
   "metadata": {},
   "source": [
    "## Initialize LLM, RAG Chain, Prompt Tempate, Query the RAG system"
   ]
  },
  {
   "cell_type": "code",
   "execution_count": 101,
   "id": "d144dfef",
   "metadata": {},
   "outputs": [],
   "source": [
    "from langchain_ollama import ChatOllama\n",
    "\n",
    "llm = ChatOllama(model=\"mistral:latest\")"
   ]
  },
  {
   "cell_type": "code",
   "execution_count": 102,
   "id": "e41b84cc",
   "metadata": {},
   "outputs": [
    {
     "data": {
      "text/plain": [
       "AIMessage(content=\" Large Language Models (LLMs) are a type of artificial intelligence designed to process and generate human-like text based on the data they were trained on. They can be used for various tasks such as answering questions, writing essays, summarizing texts, translating languages, and even generating creative content like stories or poems. These models learn from vast amounts of text data during their training process, allowing them to understand and mimic the way humans communicate in written form.\\n\\nNotable examples include ChatGPT (developed by OpenAI), BERT (Google), and T5 (Carnegie Mellon University). They are typically trained on a diverse range of internet text, such as books, articles, websites, and other written content to help them learn the nuances of language usage. However, it's important to note that while these models can generate human-like text, they don't truly understand or have consciousness – they simply analyze patterns in their training data and use those patterns to generate new responses.\", additional_kwargs={}, response_metadata={'model': 'mistral:latest', 'created_at': '2025-10-27T11:19:21.5730696Z', 'done': True, 'done_reason': 'stop', 'total_duration': 9107722500, 'load_duration': 4847271000, 'prompt_eval_count': 11, 'prompt_eval_duration': 47326900, 'eval_count': 209, 'eval_duration': 4136940900, 'model_name': 'mistral:latest', 'model_provider': 'ollama'}, id='lc_run--d291fa0b-0353-4a92-98a8-e37b934cf40f-0', usage_metadata={'input_tokens': 11, 'output_tokens': 209, 'total_tokens': 220})"
      ]
     },
     "execution_count": 102,
     "metadata": {},
     "output_type": "execute_result"
    }
   ],
   "source": [
    "test_response =  llm.invoke(\"What is Large Language Models?\")\n",
    "\n",
    "test_response"
   ]
  },
  {
   "cell_type": "code",
   "execution_count": 103,
   "id": "cea87a44",
   "metadata": {},
   "outputs": [
    {
     "data": {
      "text/plain": [
       "ChatOllama(model='mistral:latest')"
      ]
     },
     "execution_count": 103,
     "metadata": {},
     "output_type": "execute_result"
    }
   ],
   "source": [
    "# Alternative waqy to initialize chat models\n",
    "\n",
    "from langchain.chat_models.base import init_chat_model\n",
    "\n",
    "chat_model = init_chat_model(\"ollama:mistral:latest\")\n",
    "#llm = init_chat_model(\"groq:\")\n",
    "\n",
    "chat_model"
   ]
  },
  {
   "cell_type": "code",
   "execution_count": 104,
   "id": "413330a9",
   "metadata": {},
   "outputs": [
    {
     "data": {
      "text/plain": [
       "AIMessage(content=\" Reinforcement Learning (RL) is a type of machine learning where an agent learns to make decisions by taking actions in an environment to achieve a goal. The agent receives rewards or penalties (reinforcements) for its actions, and the goal is to learn a policy that maximizes the total reward over time.\\n\\nHere's a breakdown of key components:\\n\\n1. **Agent**: The entity that perceives its environment through sensors and acts upon it through actuators. It learns by interacting with the environment and adjusting its behavior based on the rewards received.\\n\\n2. **Environment**: A set of possible states, actions, and a transition function that describes how the environment moves from one state to another when an action is taken. The environment also provides rewards or penalties (reinforcements) for each action.\\n\\n3. **Policy**: A strategy that outlines what action the agent should take in any given state of the environment. The policy can be deterministic (always choosing the same action for a given state) or stochastic (choosing actions with some probability distribution).\\n\\n4. **Reward**: A scalar value provided to the agent at each time step, which indicates how good an action is in a particular state. The goal of the agent is to learn a policy that maximizes the cumulative reward over multiple steps or episodes.\\n\\n5. **Value Function**: A function that estimates the expected cumulative reward for an agent starting from a specific state and following a given policy thereafter. There are two main types: Q-value (for estimating the value of individual state-action pairs) and V-value (for estimating the value of individual states).\\n\\n6. **Learning**: The process by which an agent improves its policy based on the rewards it receives. This can be done using various algorithms, such as Q-learning, SARSA, Deep Q-Networks, or Policy Gradients, among others.\\n\\nIn summary, reinforcement learning allows agents to learn from their experiences and adapt their behavior to maximize long-term rewards in complex and dynamic environments. Applications range from game playing, robotics, autonomous systems, and more.\", additional_kwargs={}, response_metadata={'model': 'mistral:latest', 'created_at': '2025-10-27T11:19:31.4360192Z', 'done': True, 'done_reason': 'stop', 'total_duration': 9495728800, 'load_duration': 24586600, 'prompt_eval_count': 13, 'prompt_eval_duration': 39420900, 'eval_count': 465, 'eval_duration': 9234491200, 'model_name': 'mistral:latest', 'model_provider': 'ollama'}, id='lc_run--4d42af06-d7d6-4ebb-9231-a7945f10b216-0', usage_metadata={'input_tokens': 13, 'output_tokens': 465, 'total_tokens': 478})"
      ]
     },
     "execution_count": 104,
     "metadata": {},
     "output_type": "execute_result"
    }
   ],
   "source": [
    "chat_model.invoke(\"Explain the concept of reinforcement learning.\")"
   ]
  },
  {
   "cell_type": "markdown",
   "id": "9e3c6a24",
   "metadata": {},
   "source": [
    "## Modern RAG Chain"
   ]
  },
  {
   "cell_type": "code",
   "execution_count": 105,
   "id": "1bc8ad28",
   "metadata": {},
   "outputs": [],
   "source": [
    "from langchain_classic.chains.retrieval import create_retrieval_chain\n",
    "from langchain_core.prompts import ChatPromptTemplate\n",
    "from langchain_classic.chains.combine_documents.stuff import create_stuff_documents_chain"
   ]
  },
  {
   "cell_type": "code",
   "execution_count": 106,
   "id": "04aa403a",
   "metadata": {},
   "outputs": [
    {
     "data": {
      "text/plain": [
       "VectorStoreRetriever(tags=['Chroma', 'HuggingFaceEmbeddings'], vectorstore=<langchain_community.vectorstores.chroma.Chroma object at 0x0000024DFF6D1BD0>, search_kwargs={'k': 3})"
      ]
     },
     "execution_count": 106,
     "metadata": {},
     "output_type": "execute_result"
    }
   ],
   "source": [
    "## Convert vectorstore to a retriever\n",
    "\n",
    "retriever = vectorstore.as_retriever(\n",
    "    search_type=\"similarity\",\n",
    "    search_kwargs={\"k\": 3}\n",
    ")\n",
    "\n",
    "retriever"
   ]
  },
  {
   "cell_type": "code",
   "execution_count": 107,
   "id": "f0150cf9",
   "metadata": {},
   "outputs": [],
   "source": [
    "##Create Prompt Template\n",
    "system_prompt = \"\"\"You are an assistant for question-answering tasks.\n",
    "Use the context provided to answer the question as accurately as possible.\n",
    "If the context does not contain the answer, respond with 'I don't know'.\n",
    "Use three sentences maximum to answer the question and keep it concise.\n",
    "\n",
    "Context: {context}\"\"\"\n",
    "\n",
    "prompt = ChatPromptTemplate.from_messages([\n",
    "    (\"system\", system_prompt),\n",
    "    (\"human\", \"{input}\")\n",
    "])"
   ]
  },
  {
   "cell_type": "code",
   "execution_count": 108,
   "id": "65f34477",
   "metadata": {},
   "outputs": [
    {
     "data": {
      "text/plain": [
       "ChatPromptTemplate(input_variables=['context', 'input'], input_types={}, partial_variables={}, messages=[SystemMessagePromptTemplate(prompt=PromptTemplate(input_variables=['context'], input_types={}, partial_variables={}, template=\"You are an assistant for question-answering tasks.\\nUse the context provided to answer the question as accurately as possible.\\nIf the context does not contain the answer, respond with 'I don't know'.\\nUse three sentences maximum to answer the question and keep it concise.\\n\\nContext: {context}\"), additional_kwargs={}), HumanMessagePromptTemplate(prompt=PromptTemplate(input_variables=['input'], input_types={}, partial_variables={}, template='{input}'), additional_kwargs={})])"
      ]
     },
     "execution_count": 108,
     "metadata": {},
     "output_type": "execute_result"
    }
   ],
   "source": [
    "prompt"
   ]
  },
  {
   "cell_type": "code",
   "execution_count": 109,
   "id": "2f21887a",
   "metadata": {},
   "outputs": [
    {
     "data": {
      "text/plain": [
       "RunnableBinding(bound=RunnableBinding(bound=RunnableAssign(mapper={\n",
       "  context: RunnableLambda(format_docs)\n",
       "}), kwargs={}, config={'run_name': 'format_inputs'}, config_factories=[])\n",
       "| ChatPromptTemplate(input_variables=['context', 'input'], input_types={}, partial_variables={}, messages=[SystemMessagePromptTemplate(prompt=PromptTemplate(input_variables=['context'], input_types={}, partial_variables={}, template=\"You are an assistant for question-answering tasks.\\nUse the context provided to answer the question as accurately as possible.\\nIf the context does not contain the answer, respond with 'I don't know'.\\nUse three sentences maximum to answer the question and keep it concise.\\n\\nContext: {context}\"), additional_kwargs={}), HumanMessagePromptTemplate(prompt=PromptTemplate(input_variables=['input'], input_types={}, partial_variables={}, template='{input}'), additional_kwargs={})])\n",
       "| ChatOllama(model='mistral:latest')\n",
       "| StrOutputParser(), kwargs={}, config={'run_name': 'stuff_documents_chain'}, config_factories=[])"
      ]
     },
     "execution_count": 109,
     "metadata": {},
     "output_type": "execute_result"
    }
   ],
   "source": [
    "## Create Documents Chain\n",
    "documents_chain = create_stuff_documents_chain(\n",
    "    llm=chat_model,\n",
    "    prompt=prompt\n",
    ")\n",
    "\n",
    "documents_chain"
   ]
  },
  {
   "cell_type": "markdown",
   "id": "de171a51",
   "metadata": {},
   "source": [
    "This chain:\n",
    "\n",
    "- Takes retrieved documents\n",
    "- \"Stuffs\" them into prompt's {context} placeholder.\n",
    "- Sends the complete prompt to the LLM.\n",
    "- Returns the LLM's response."
   ]
  },
  {
   "cell_type": "code",
   "execution_count": 110,
   "id": "fad789f3",
   "metadata": {},
   "outputs": [
    {
     "data": {
      "text/plain": [
       "RunnableBinding(bound=RunnableAssign(mapper={\n",
       "  context: RunnableBinding(bound=RunnableLambda(lambda x: x['input'])\n",
       "           | VectorStoreRetriever(tags=['Chroma', 'HuggingFaceEmbeddings'], vectorstore=<langchain_community.vectorstores.chroma.Chroma object at 0x0000024DFF6D1BD0>, search_kwargs={'k': 3}), kwargs={}, config={'run_name': 'retrieve_documents'}, config_factories=[])\n",
       "})\n",
       "| RunnableAssign(mapper={\n",
       "    answer: RunnableBinding(bound=RunnableBinding(bound=RunnableAssign(mapper={\n",
       "              context: RunnableLambda(format_docs)\n",
       "            }), kwargs={}, config={'run_name': 'format_inputs'}, config_factories=[])\n",
       "            | ChatPromptTemplate(input_variables=['context', 'input'], input_types={}, partial_variables={}, messages=[SystemMessagePromptTemplate(prompt=PromptTemplate(input_variables=['context'], input_types={}, partial_variables={}, template=\"You are an assistant for question-answering tasks.\\nUse the context provided to answer the question as accurately as possible.\\nIf the context does not contain the answer, respond with 'I don't know'.\\nUse three sentences maximum to answer the question and keep it concise.\\n\\nContext: {context}\"), additional_kwargs={}), HumanMessagePromptTemplate(prompt=PromptTemplate(input_variables=['input'], input_types={}, partial_variables={}, template='{input}'), additional_kwargs={})])\n",
       "            | ChatOllama(model='mistral:latest')\n",
       "            | StrOutputParser(), kwargs={}, config={'run_name': 'stuff_documents_chain'}, config_factories=[])\n",
       "  }), kwargs={}, config={'run_name': 'retrieval_chain'}, config_factories=[])"
      ]
     },
     "execution_count": 110,
     "metadata": {},
     "output_type": "execute_result"
    }
   ],
   "source": [
    "### Create the Final RAG Chain\n",
    "rag_chain = create_retrieval_chain(retriever,documents_chain)\n",
    "rag_chain"
   ]
  },
  {
   "cell_type": "markdown",
   "id": "817f31b2",
   "metadata": {},
   "source": [
    "Using this create_retrieval_chain we are able to another retreval layer to our stuff document chain which uses the retriever to fetch relavant documents from our vectorstore and sends it to the stuff chain which sends it to the LLM."
   ]
  },
  {
   "cell_type": "code",
   "execution_count": 111,
   "id": "a5fd858c",
   "metadata": {},
   "outputs": [
    {
     "data": {
      "text/plain": [
       "{'input': 'Explain the different types of machine learning.',\n",
       " 'context': [Document(metadata={'source': 'doc_0.txt'}, page_content='Machine Learning Fundamentals\\n\\n    Machine learning is a subset of artificial intelligence that focuses on building systems that can learn from and make decisions based on data. It involves various algorithms and statistical models that enable computers to perform specific tasks without explicit instructions. The key types of machine learning include supervised learning, unsupervised learning, and reinforcement learning. Supervised learning uses labeled data to train models, while unsupervised'),\n",
       "  Document(metadata={'source': 'doc_0.txt'}, page_content='Machine Learning Fundamentals\\n\\n    Machine learning is a subset of artificial intelligence that focuses on building systems that can learn from and make decisions based on data. It involves various algorithms and statistical models that enable computers to perform specific tasks without explicit instructions. The key types of machine learning include supervised learning, unsupervised learning, and reinforcement learning. Supervised learning uses labeled data to train models, while unsupervised'),\n",
       "  Document(metadata={'source': 'doc_0.txt'}, page_content='Machine Learning Fundamentals\\n\\n    Machine learning is a subset of artificial intelligence that focuses on building systems that can learn from and make decisions based on data. It involves various algorithms and statistical models that enable computers to perform specific tasks without explicit instructions. The key types of machine learning include supervised learning, unsupervised learning, and reinforcement learning. Supervised learning uses labeled data to train models, while unsupervised')],\n",
       " 'answer': ' Machine Learning has three primary categories:\\n1. Supervised Learning: This type of machine learning involves training models using labeled data, where both input and output data are provided during training for accurate predictions. Examples include linear regression and support vector machines (SVM).\\n2. Unsupervised Learning: In contrast to supervised learning, unsupervised learning trains models on unlabeled data without specific outputs. The algorithms aim to identify patterns or structure in the input data. Clustering and dimensionality reduction are examples of unsupervised learning.\\n3. Reinforcement Learning: This approach involves an agent interacting with its environment to learn through trial-and-error. The agent receives rewards or penalties based on actions, and it learns to take actions that maximize long-term rewards. Examples include Q-learning and deep reinforcement learning.'}"
      ]
     },
     "execution_count": 111,
     "metadata": {},
     "output_type": "execute_result"
    }
   ],
   "source": [
    "response = rag_chain.invoke({\"input\": \"Explain the different types of machine learning.\"})\n",
    "\n",
    "response"
   ]
  },
  {
   "cell_type": "code",
   "execution_count": 112,
   "id": "f51ef782",
   "metadata": {},
   "outputs": [
    {
     "data": {
      "text/plain": [
       "' Machine Learning has three primary categories:\\n1. Supervised Learning: This type of machine learning involves training models using labeled data, where both input and output data are provided during training for accurate predictions. Examples include linear regression and support vector machines (SVM).\\n2. Unsupervised Learning: In contrast to supervised learning, unsupervised learning trains models on unlabeled data without specific outputs. The algorithms aim to identify patterns or structure in the input data. Clustering and dimensionality reduction are examples of unsupervised learning.\\n3. Reinforcement Learning: This approach involves an agent interacting with its environment to learn through trial-and-error. The agent receives rewards or penalties based on actions, and it learns to take actions that maximize long-term rewards. Examples include Q-learning and deep reinforcement learning.'"
      ]
     },
     "execution_count": 112,
     "metadata": {},
     "output_type": "execute_result"
    }
   ],
   "source": [
    "response[\"answer\"]"
   ]
  },
  {
   "cell_type": "code",
   "execution_count": 113,
   "id": "9c763ac9",
   "metadata": {},
   "outputs": [
    {
     "name": "stdout",
     "output_type": "stream",
     "text": [
      "Question: What are three types of machine learning?\n",
      "--------------------------------------------------\n",
      "Answer: {'input': 'What are three types of machine learning?', 'context': [Document(metadata={'source': 'doc_0.txt'}, page_content='Machine Learning Fundamentals\\n\\n    Machine learning is a subset of artificial intelligence that focuses on building systems that can learn from and make decisions based on data. It involves various algorithms and statistical models that enable computers to perform specific tasks without explicit instructions. The key types of machine learning include supervised learning, unsupervised learning, and reinforcement learning. Supervised learning uses labeled data to train models, while unsupervised'), Document(metadata={'source': 'doc_0.txt'}, page_content='Machine Learning Fundamentals\\n\\n    Machine learning is a subset of artificial intelligence that focuses on building systems that can learn from and make decisions based on data. It involves various algorithms and statistical models that enable computers to perform specific tasks without explicit instructions. The key types of machine learning include supervised learning, unsupervised learning, and reinforcement learning. Supervised learning uses labeled data to train models, while unsupervised'), Document(metadata={'source': 'doc_0.txt'}, page_content='Machine Learning Fundamentals\\n\\n    Machine learning is a subset of artificial intelligence that focuses on building systems that can learn from and make decisions based on data. It involves various algorithms and statistical models that enable computers to perform specific tasks without explicit instructions. The key types of machine learning include supervised learning, unsupervised learning, and reinforcement learning. Supervised learning uses labeled data to train models, while unsupervised')], 'answer': ' Machine learning is a subset of artificial intelligence that focuses on building systems capable of learning from data. The key types of machine learning are:\\n\\n1. Supervised Learning: This type uses labeled data to train models and make predictions or decisions.\\n2. Unsupervised Learning: In this approach, the algorithm learns from unlabeled data to find patterns or structure in the data.\\n3. Reinforcement Learning: This method involves an agent learning to make decisions by performing actions in an environment to maximize a reward signal.'}\n",
      "\n",
      "Retrieved Context:\n",
      "\n",
      " ----- Source 1 -----\n",
      "Machine Learning Fundamentals\n",
      "\n",
      "    Machine learning is a subset of artificial intelligence that focuses on building systems that can learn from and make decisions based on data. It involves various al...\n",
      "\n",
      " ----- Source 2 -----\n",
      "Machine Learning Fundamentals\n",
      "\n",
      "    Machine learning is a subset of artificial intelligence that focuses on building systems that can learn from and make decisions based on data. It involves various al...\n",
      "\n",
      " ----- Source 3 -----\n",
      "Machine Learning Fundamentals\n",
      "\n",
      "    Machine learning is a subset of artificial intelligence that focuses on building systems that can learn from and make decisions based on data. It involves various al...\n",
      "\n",
      "================================================================================\n",
      "\n",
      "Question: What is Deep Learning and how does it relate to Neural Networks?\n",
      "--------------------------------------------------\n",
      "Answer: {'input': 'What is Deep Learning and how does it relate to Neural Networks?', 'context': [Document(metadata={'source': 'doc_2.txt'}, page_content='Deep Learning and Neural Networks\\n\\n    Deep learning is a subset of machine learning that focuses on using neural networks with multiple layers to model complex patterns in data. Neural networks are inspired by the structure and function of the human brain, consisting of interconnected nodes (neurons) that process information. Deep learning has revolutionized various fields, including computer vision, natural language processing, and speech recognition, by enabling the development of models that'), Document(metadata={'source': 'doc_2.txt'}, page_content='Deep Learning and Neural Networks\\n\\n    Deep learning is a subset of machine learning that focuses on using neural networks with multiple layers to model complex patterns in data. Neural networks are inspired by the structure and function of the human brain, consisting of interconnected nodes (neurons) that process information. Deep learning has revolutionized various fields, including computer vision, natural language processing, and speech recognition, by enabling the development of models that'), Document(metadata={'source': 'doc_2.txt'}, page_content='Deep Learning and Neural Networks\\n\\n    Deep learning is a subset of machine learning that focuses on using neural networks with multiple layers to model complex patterns in data. Neural networks are inspired by the structure and function of the human brain, consisting of interconnected nodes (neurons) that process information. Deep learning has revolutionized various fields, including computer vision, natural language processing, and speech recognition, by enabling the development of models that')], 'answer': ' Deep Learning is a subset of Machine Learning that specializes in learning patterns from data using neural networks with multiple layers. These neural networks are designed to mimic the structure and function of the human brain, consisting of interconnected nodes (neurons) that process information. In essence, deep learning applies neural networks to tackle more complex tasks than traditional machine learning methods can handle.'}\n",
      "\n",
      "Retrieved Context:\n",
      "\n",
      " ----- Source 1 -----\n",
      "Deep Learning and Neural Networks\n",
      "\n",
      "    Deep learning is a subset of machine learning that focuses on using neural networks with multiple layers to model complex patterns in data. Neural networks are i...\n",
      "\n",
      " ----- Source 2 -----\n",
      "Deep Learning and Neural Networks\n",
      "\n",
      "    Deep learning is a subset of machine learning that focuses on using neural networks with multiple layers to model complex patterns in data. Neural networks are i...\n",
      "\n",
      " ----- Source 3 -----\n",
      "Deep Learning and Neural Networks\n",
      "\n",
      "    Deep learning is a subset of machine learning that focuses on using neural networks with multiple layers to model complex patterns in data. Neural networks are i...\n",
      "\n",
      "================================================================================\n",
      "\n",
      "Question: What are CNNs used for?\n",
      "--------------------------------------------------\n",
      "Answer: {'input': 'What are CNNs used for?', 'context': [Document(metadata={'source': 'doc_2.txt'}, page_content='Deep Learning and Neural Networks\\n\\n    Deep learning is a subset of machine learning that focuses on using neural networks with multiple layers to model complex patterns in data. Neural networks are inspired by the structure and function of the human brain, consisting of interconnected nodes (neurons) that process information. Deep learning has revolutionized various fields, including computer vision, natural language processing, and speech recognition, by enabling the development of models that'), Document(metadata={'source': 'doc_2.txt'}, page_content='Deep Learning and Neural Networks\\n\\n    Deep learning is a subset of machine learning that focuses on using neural networks with multiple layers to model complex patterns in data. Neural networks are inspired by the structure and function of the human brain, consisting of interconnected nodes (neurons) that process information. Deep learning has revolutionized various fields, including computer vision, natural language processing, and speech recognition, by enabling the development of models that'), Document(metadata={'source': 'doc_2.txt'}, page_content='Deep Learning and Neural Networks\\n\\n    Deep learning is a subset of machine learning that focuses on using neural networks with multiple layers to model complex patterns in data. Neural networks are inspired by the structure and function of the human brain, consisting of interconnected nodes (neurons) that process information. Deep learning has revolutionized various fields, including computer vision, natural language processing, and speech recognition, by enabling the development of models that')], 'answer': ' Convolutional Neural Networks (CNNs) are often used in the field of computer vision for tasks such as image classification, object detection, and image segmentation. They excel at automatically learning spatial hierarchies from images, making them particularly useful for analyzing visual data.'}\n",
      "\n",
      "Retrieved Context:\n",
      "\n",
      " ----- Source 1 -----\n",
      "Deep Learning and Neural Networks\n",
      "\n",
      "    Deep learning is a subset of machine learning that focuses on using neural networks with multiple layers to model complex patterns in data. Neural networks are i...\n",
      "\n",
      " ----- Source 2 -----\n",
      "Deep Learning and Neural Networks\n",
      "\n",
      "    Deep learning is a subset of machine learning that focuses on using neural networks with multiple layers to model complex patterns in data. Neural networks are i...\n",
      "\n",
      " ----- Source 3 -----\n",
      "Deep Learning and Neural Networks\n",
      "\n",
      "    Deep learning is a subset of machine learning that focuses on using neural networks with multiple layers to model complex patterns in data. Neural networks are i...\n",
      "\n",
      "================================================================================\n",
      "\n"
     ]
    }
   ],
   "source": [
    "# Function to query the modern RAG system\n",
    "\n",
    "def query_rag_modern(question: str) -> str:\n",
    "    print(f\"Question: {question}\")\n",
    "    print(\"-\"*50)\n",
    "\n",
    "    # Using create_retrieval_chain approach\n",
    "    result = rag_chain.invoke({\"input\": question})\n",
    "\n",
    "    print(f\"Answer: {result}\")\n",
    "    print(\"\\nRetrieved Context:\")\n",
    "    for i, doc in enumerate(result['context']):\n",
    "        print(f\"\\n ----- Source {i+1} -----\")\n",
    "        print(doc.page_content[:200]+\"...\")\n",
    "\n",
    "    return result['answer']\n",
    "\n",
    "test_questions = [\n",
    "    \"What are three types of machine learning?\",\n",
    "    \"What is Deep Learning and how does it relate to Neural Networks?\",\n",
    "    \"What are CNNs used for?\"\n",
    "]\n",
    "\n",
    "for question in test_questions:\n",
    "    query_rag_modern(question)\n",
    "    print(\"\\n\"+\"=\"*80+\"\\n\")"
   ]
  },
  {
   "cell_type": "markdown",
   "id": "7f3308c5",
   "metadata": {},
   "source": [
    "# Creating Rag Chain Alternative - Using LCEL"
   ]
  },
  {
   "cell_type": "code",
   "execution_count": 114,
   "id": "0f65603d",
   "metadata": {},
   "outputs": [],
   "source": [
    "from langchain_core.output_parsers import StrOutputParser\n",
    "from langchain_core.runnables import RunnablePassthrough\n",
    "from langchain_core.prompts import ChatPromptTemplate\n"
   ]
  },
  {
   "cell_type": "code",
   "execution_count": 115,
   "id": "50376e47",
   "metadata": {},
   "outputs": [
    {
     "data": {
      "text/plain": [
       "ChatPromptTemplate(input_variables=['context', 'question'], input_types={}, partial_variables={}, messages=[HumanMessagePromptTemplate(prompt=PromptTemplate(input_variables=['context', 'question'], input_types={}, partial_variables={}, template=\"Use the context provided to answer the question as accurately as possible.\\nIf the context does not contain the answer, respond with 'I don't know'.\\nUse three sentences maximum to answer the question and keep it concise.\\n\\nContext: {context}\\n\\nQuestion: {question}\\n\\nAnswer:\"), additional_kwargs={})])"
      ]
     },
     "execution_count": 115,
     "metadata": {},
     "output_type": "execute_result"
    }
   ],
   "source": [
    "#Create a custom Prompt\n",
    "custom_prompt = ChatPromptTemplate.from_template(\n",
    "    \"\"\"Use the context provided to answer the question as accurately as possible.\n",
    "If the context does not contain the answer, respond with 'I don't know'.\n",
    "Use three sentences maximum to answer the question and keep it concise.\n",
    "\n",
    "Context: {context}\n",
    "\n",
    "Question: {question}\n",
    "\n",
    "Answer:\"\"\"\n",
    ")\n",
    "\n",
    "custom_prompt\n"
   ]
  },
  {
   "cell_type": "code",
   "execution_count": 116,
   "id": "60d3f322",
   "metadata": {},
   "outputs": [
    {
     "data": {
      "text/plain": [
       "VectorStoreRetriever(tags=['Chroma', 'HuggingFaceEmbeddings'], vectorstore=<langchain_community.vectorstores.chroma.Chroma object at 0x0000024DFF6D1BD0>, search_kwargs={'k': 3})"
      ]
     },
     "execution_count": 116,
     "metadata": {},
     "output_type": "execute_result"
    }
   ],
   "source": [
    "retriever"
   ]
  },
  {
   "cell_type": "code",
   "execution_count": 117,
   "id": "d8ef6d45",
   "metadata": {},
   "outputs": [],
   "source": [
    "## Format the output documents for the prompt\n",
    "def format_docs(docs: List[Document]) -> str:\n",
    "    return \"\\n\\n\".join([doc.page_content for doc in docs])"
   ]
  },
  {
   "cell_type": "code",
   "execution_count": 118,
   "id": "08b63b15",
   "metadata": {},
   "outputs": [
    {
     "data": {
      "text/plain": [
       "{\n",
       "  context: VectorStoreRetriever(tags=['Chroma', 'HuggingFaceEmbeddings'], vectorstore=<langchain_community.vectorstores.chroma.Chroma object at 0x0000024DFF6D1BD0>, search_kwargs={'k': 3})\n",
       "           | RunnableLambda(format_docs),\n",
       "  question: RunnablePassthrough()\n",
       "}\n",
       "| ChatPromptTemplate(input_variables=['context', 'question'], input_types={}, partial_variables={}, messages=[HumanMessagePromptTemplate(prompt=PromptTemplate(input_variables=['context', 'question'], input_types={}, partial_variables={}, template=\"Use the context provided to answer the question as accurately as possible.\\nIf the context does not contain the answer, respond with 'I don't know'.\\nUse three sentences maximum to answer the question and keep it concise.\\n\\nContext: {context}\\n\\nQuestion: {question}\\n\\nAnswer:\"), additional_kwargs={})])\n",
       "| ChatOllama(model='mistral:latest')\n",
       "| StrOutputParser()"
      ]
     },
     "execution_count": 118,
     "metadata": {},
     "output_type": "execute_result"
    }
   ],
   "source": [
    "## Build the RAG Chain using LCEL\n",
    "rag_chain_lcel = (\n",
    "    {\n",
    "        \"context\": retriever | format_docs,\n",
    "        \"question\": RunnablePassthrough()  # we use runnable passthrough to accept question input during runtime\n",
    "    }\n",
    "    | custom_prompt\n",
    "    | chat_model\n",
    "    | StrOutputParser()\n",
    ")\n",
    "\n",
    "rag_chain_lcel"
   ]
  },
  {
   "cell_type": "code",
   "execution_count": 121,
   "id": "976937cb",
   "metadata": {},
   "outputs": [
    {
     "data": {
      "text/plain": [
       "\" Machine Learning involves three primary types:\\n1. Supervised Learning: This type uses labeled data for training models. The algorithm learns from input-output pairs and aims to predict outputs for new inputs.\\n2. Unsupervised Learning: In this method, the algorithm learns patterns in unlabeled data without explicit guidance on what to look for. It's often used for clustering or dimensionality reduction.\\n3. Reinforcement Learning: This type involves an agent learning through trial and error by interacting with its environment. The agent receives rewards or penalties for its actions, helping it learn the best action in a given situation.\""
      ]
     },
     "execution_count": 121,
     "metadata": {},
     "output_type": "execute_result"
    }
   ],
   "source": [
    "response = rag_chain_lcel.invoke(\"Explain the different types of machine learning.\")\n",
    "response"
   ]
  },
  {
   "cell_type": "code",
   "execution_count": 141,
   "id": "764d01b0",
   "metadata": {},
   "outputs": [
    {
     "data": {
      "text/plain": [
       "[Document(metadata={'source': 'doc_0.txt'}, page_content='Machine Learning Fundamentals\\n\\n    Machine learning is a subset of artificial intelligence that focuses on building systems that can learn from and make decisions based on data. It involves various algorithms and statistical models that enable computers to perform specific tasks without explicit instructions. The key types of machine learning include supervised learning, unsupervised learning, and reinforcement learning. Supervised learning uses labeled data to train models, while unsupervised'),\n",
       " Document(metadata={'source': 'doc_0.txt'}, page_content='Machine Learning Fundamentals\\n\\n    Machine learning is a subset of artificial intelligence that focuses on building systems that can learn from and make decisions based on data. It involves various algorithms and statistical models that enable computers to perform specific tasks without explicit instructions. The key types of machine learning include supervised learning, unsupervised learning, and reinforcement learning. Supervised learning uses labeled data to train models, while unsupervised'),\n",
       " Document(metadata={'source': 'doc_0.txt'}, page_content='Machine Learning Fundamentals\\n\\n    Machine learning is a subset of artificial intelligence that focuses on building systems that can learn from and make decisions based on data. It involves various algorithms and statistical models that enable computers to perform specific tasks without explicit instructions. The key types of machine learning include supervised learning, unsupervised learning, and reinforcement learning. Supervised learning uses labeled data to train models, while unsupervised')]"
      ]
     },
     "execution_count": 141,
     "metadata": {},
     "output_type": "execute_result"
    }
   ],
   "source": [
    "context = retriever.invoke(\"Explain the different types of machine learning.\")\n",
    "context"
   ]
  },
  {
   "cell_type": "code",
   "execution_count": 139,
   "id": "4835bc7d",
   "metadata": {},
   "outputs": [],
   "source": [
    "# Query using the LCEL RAG Chain\n",
    "\n",
    "def query_rag_lcel(question: str) -> str:\n",
    "    print(f\"Question: {question}\")\n",
    "    print(\"-\"*50)\n",
    "\n",
    "    # Using create_retrieval_chain approach\n",
    "    result = rag_chain_lcel.invoke(question)\n",
    "\n",
    "    print(f\"Answer: {result}\")\n",
    "    \n",
    "    docs = retriever.invoke(question)\n",
    "    print(\"\\nSource Context:\")\n",
    "\n",
    "    for i, doc in enumerate(docs):\n",
    "        print(f\"\\n ----- Source {i+1} -----\")\n",
    "        print(doc.page_content[:200]+\"...\")\n",
    "\n",
    "\n",
    "test_questions = [\n",
    "    \"What are three types of machine learning?\",\n",
    "    \"What is Deep Learning and how does it relate to Neural Networks?\",\n",
    "    \"What are CNNs used for?\"\n",
    "]\n"
   ]
  },
  {
   "cell_type": "code",
   "execution_count": 140,
   "id": "9ef987e7",
   "metadata": {},
   "outputs": [
    {
     "name": "stdout",
     "output_type": "stream",
     "text": [
      "Question: What are three types of machine learning?\n",
      "--------------------------------------------------\n",
      "Answer:  The three main types of machine learning are:\n",
      "1. Supervised Learning\n",
      "2. Unsupervised Learning\n",
      "3. Reinforcement Learning\n",
      "\n",
      "Source Context:\n",
      "\n",
      " ----- Source 1 -----\n",
      "Machine Learning Fundamentals\n",
      "\n",
      "    Machine learning is a subset of artificial intelligence that focuses on building systems that can learn from and make decisions based on data. It involves various al...\n",
      "\n",
      " ----- Source 2 -----\n",
      "Machine Learning Fundamentals\n",
      "\n",
      "    Machine learning is a subset of artificial intelligence that focuses on building systems that can learn from and make decisions based on data. It involves various al...\n",
      "\n",
      " ----- Source 3 -----\n",
      "Machine Learning Fundamentals\n",
      "\n",
      "    Machine learning is a subset of artificial intelligence that focuses on building systems that can learn from and make decisions based on data. It involves various al...\n",
      "\n",
      "================================================================================\n",
      "\n",
      "Question: What is Deep Learning and how does it relate to Neural Networks?\n",
      "--------------------------------------------------\n",
      "Answer:  Deep Learning is a subfield of Machine Learning, which focuses on training artificial neural networks with multiple layers to model complex patterns in data. It's inspired by the structure and function of the human brain, consisting of interconnected nodes (neurons) that process information. Deep learning has significantly impacted various fields like computer vision, natural language processing, and speech recognition by enabling the development of sophisticated models.\n",
      "\n",
      "Source Context:\n",
      "\n",
      " ----- Source 1 -----\n",
      "Deep Learning and Neural Networks\n",
      "\n",
      "    Deep learning is a subset of machine learning that focuses on using neural networks with multiple layers to model complex patterns in data. Neural networks are i...\n",
      "\n",
      " ----- Source 2 -----\n",
      "Deep Learning and Neural Networks\n",
      "\n",
      "    Deep learning is a subset of machine learning that focuses on using neural networks with multiple layers to model complex patterns in data. Neural networks are i...\n",
      "\n",
      " ----- Source 3 -----\n",
      "Deep Learning and Neural Networks\n",
      "\n",
      "    Deep learning is a subset of machine learning that focuses on using neural networks with multiple layers to model complex patterns in data. Neural networks are i...\n",
      "\n",
      "================================================================================\n",
      "\n",
      "Question: What are CNNs used for?\n",
      "--------------------------------------------------\n",
      "Answer:  CNNs (Convolutional Neural Networks) are primarily used in computer vision tasks such as image classification, object detection, and image segmentation. They excel at processing grid-like data like images by using convolutional layers that mimic the way the human visual system responds to different spatial frequencies.\n",
      "\n",
      "Source Context:\n",
      "\n",
      " ----- Source 1 -----\n",
      "Deep Learning and Neural Networks\n",
      "\n",
      "    Deep learning is a subset of machine learning that focuses on using neural networks with multiple layers to model complex patterns in data. Neural networks are i...\n",
      "\n",
      " ----- Source 2 -----\n",
      "Deep Learning and Neural Networks\n",
      "\n",
      "    Deep learning is a subset of machine learning that focuses on using neural networks with multiple layers to model complex patterns in data. Neural networks are i...\n",
      "\n",
      " ----- Source 3 -----\n",
      "Deep Learning and Neural Networks\n",
      "\n",
      "    Deep learning is a subset of machine learning that focuses on using neural networks with multiple layers to model complex patterns in data. Neural networks are i...\n",
      "\n",
      "================================================================================\n",
      "\n"
     ]
    }
   ],
   "source": [
    "for question in test_questions:\n",
    "    query_rag_lcel(question)\n",
    "    print(\"\\n\"+\"=\"*80+\"\\n\")"
   ]
  }
 ],
 "metadata": {
  "kernelspec": {
   "display_name": "RAGUdemy",
   "language": "python",
   "name": "python3"
  },
  "language_info": {
   "codemirror_mode": {
    "name": "ipython",
    "version": 3
   },
   "file_extension": ".py",
   "mimetype": "text/x-python",
   "name": "python",
   "nbconvert_exporter": "python",
   "pygments_lexer": "ipython3",
   "version": "3.11.9"
  }
 },
 "nbformat": 4,
 "nbformat_minor": 5
}
