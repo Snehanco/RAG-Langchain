{
 "cells": [
  {
   "cell_type": "code",
   "execution_count": null,
   "id": "7bf4c80f",
   "metadata": {},
   "outputs": [],
   "source": [
    "from dotenv import load_dotenv\n",
    "import os\n",
    "from langchain_huggingface import HuggingFaceEmbeddings\n",
    "\n"
   ]
  },
  {
   "cell_type": "markdown",
   "id": "5810727f",
   "metadata": {},
   "source": [
    "Config"
   ]
  },
  {
   "cell_type": "code",
   "execution_count": null,
   "id": "394a3a9b",
   "metadata": {},
   "outputs": [],
   "source": [
    "load_dotenv()"
   ]
  },
  {
   "cell_type": "code",
   "execution_count": 6,
   "id": "a3871a8f",
   "metadata": {},
   "outputs": [
    {
     "data": {
      "text/plain": [
       "HuggingFaceEmbeddings(model_name='sentence-transformers/all-MiniLM-L6-v2', cache_folder=None, model_kwargs={}, encode_kwargs={}, query_encode_kwargs={}, multi_process=False, show_progress=False)"
      ]
     },
     "execution_count": 6,
     "metadata": {},
     "output_type": "execute_result"
    }
   ],
   "source": [
    "embeddings_model = HuggingFaceEmbeddings(model_name=\"sentence-transformers/all-MiniLM-L6-v2\")\n",
    "\n",
    "embeddings_model"
   ]
  },
  {
   "cell_type": "code",
   "execution_count": 9,
   "id": "8725ec32",
   "metadata": {},
   "outputs": [],
   "source": [
    "from langchain_astradb import AstraDBVectorStore\n",
    "\n",
    "vector_store = AstraDBVectorStore(\n",
    "    embedding=embeddings_model,\n",
    "    collection_name=\"astra_vectors\",\n",
    "    api_endpoint=os.getenv(\"ASTRA_DB_API_ENDPOINT\"),\n",
    "    token=os.getenv(\"ASTRA_DB_APPLICATION_TOKEN\"),\n",
    "    namespace=None\n",
    ")"
   ]
  },
  {
   "cell_type": "code",
   "execution_count": 10,
   "id": "16705cdb",
   "metadata": {},
   "outputs": [],
   "source": [
    "from langchain_core.documents import Document\n",
    "\n",
    "document_1 = Document(page_content=\"I had chocolate chips and scrambled eggs for breakfast this morning.\", metadata={\"source\": \"tweet\"})\n",
    "document_2 = Document(page_content=\"The capital of France is Paris.\", metadata={\"source\": \"wiki\"})\n",
    "document_3 = Document(page_content=\"The Eiffel Tower is located in Paris, France.\", metadata={\"source\": \"wiki\"})\n",
    "document_4 = Document(page_content=\"I love programming in Python!\", metadata={\"source\": \"blog\"})\n",
    "document_5 = Document(page_content=\"The Great Wall of China is one of the Seven Wonders of the World.\", metadata={\"source\": \"wiki\"})\n",
    "document_6 = Document(page_content=\"Artificial Intelligence is transforming the world.\", metadata={\"source\": \"article\"})\n",
    "document_7 = Document(page_content=\"The sun rises in the east and sets in the west.\", metadata={\"source\": \"fact\"})\n",
    "document_8 = Document(page_content=\"Mount Everest is the highest mountain on Earth.\", metadata={\"source\": \"geo\"})\n",
    "document_9 = Document(page_content=\"The Pacific Ocean is the largest ocean on Earth.\", metadata={\"source\": \"geo\"})\n",
    "document_10 = Document(page_content=\"Python is a popular programming language for data science.\", metadata={\"source\": \"blog\"})\n",
    "\n",
    "documents = [document_1, document_2, document_3, document_4, document_5, document_6, document_7, document_8, document_9, document_10]"
   ]
  },
  {
   "cell_type": "code",
   "execution_count": 11,
   "id": "8cc9a92c",
   "metadata": {},
   "outputs": [
    {
     "data": {
      "text/plain": [
       "['fb36af16fb414903824f94449a4597c1',\n",
       " '7bfdf2ed16ac48479a9bb8d4c00cffbb',\n",
       " '6db1e8b488b0494987440541878b0ea7',\n",
       " '780b917dd805485fb1cd80e1b0ab9b3c',\n",
       " '324d095e6ef440c69449f8e5d226fc34',\n",
       " '8a92f1a5026349dd87de773b930940e3',\n",
       " 'd15e260973fb4e89b296a2ec2829ebe1',\n",
       " '818da46cd1044049914c9501bc1380be',\n",
       " 'a37f782ada0d40bfbaf0b44886f9bd90',\n",
       " '35b1a02987a04236bf865804b90e75d8']"
      ]
     },
     "execution_count": 11,
     "metadata": {},
     "output_type": "execute_result"
    }
   ],
   "source": [
    "vector_store.add_documents(documents=documents)"
   ]
  },
  {
   "cell_type": "markdown",
   "id": "7c4662e5",
   "metadata": {},
   "source": [
    "Search"
   ]
  },
  {
   "cell_type": "code",
   "execution_count": 12,
   "id": "d5948d5c",
   "metadata": {},
   "outputs": [
    {
     "data": {
      "text/plain": [
       "[Document(id='6db1e8b488b0494987440541878b0ea7', metadata={'source': 'wiki'}, page_content='The Eiffel Tower is located in Paris, France.'),\n",
       " Document(id='7bfdf2ed16ac48479a9bb8d4c00cffbb', metadata={'source': 'wiki'}, page_content='The capital of France is Paris.'),\n",
       " Document(id='324d095e6ef440c69449f8e5d226fc34', metadata={'source': 'wiki'}, page_content='The Great Wall of China is one of the Seven Wonders of the World.'),\n",
       " Document(id='d15e260973fb4e89b296a2ec2829ebe1', metadata={'source': 'fact'}, page_content='The sun rises in the east and sets in the west.')]"
      ]
     },
     "execution_count": 12,
     "metadata": {},
     "output_type": "execute_result"
    }
   ],
   "source": [
    "vector_store.similarity_search(\"Where is the Eiffel Tower located?\")"
   ]
  },
  {
   "cell_type": "code",
   "execution_count": 13,
   "id": "57602ece",
   "metadata": {},
   "outputs": [
    {
     "name": "stdout",
     "output_type": "stream",
     "text": [
      "* 'Mount Everest is the highest mountain on Earth.', metadata: {'source': 'geo'}\n",
      "* 'The Pacific Ocean is the largest ocean on Earth.', metadata: {'source': 'geo'}\n"
     ]
    }
   ],
   "source": [
    "results = vector_store.similarity_search(\"Which is the largest mountain\",\n",
    "                                         k=3,\n",
    "                                         filter={\"source\": \"geo\"})\n",
    "\n",
    "for result in results:\n",
    "    print(f\"* '{result.page_content}', metadata: {result.metadata}\")"
   ]
  },
  {
   "cell_type": "code",
   "execution_count": 14,
   "id": "5085d1f7",
   "metadata": {},
   "outputs": [
    {
     "name": "stdout",
     "output_type": "stream",
     "text": [
      "* Score: 0.8257852 'Mount Everest is the highest mountain on Earth.', metadata: {'source': 'geo'}\n",
      "* Score: 0.7136688 'The Pacific Ocean is the largest ocean on Earth.', metadata: {'source': 'geo'}\n"
     ]
    }
   ],
   "source": [
    "results = vector_store.similarity_search_with_score(\"Which is the largest mountain\",\n",
    "                                         k=3,\n",
    "                                         filter={\"source\": \"geo\"})\n",
    "\n",
    "for res, score in results:\n",
    "    print(f\"* Score: {score} '{res.page_content}', metadata: {res.metadata}\")"
   ]
  },
  {
   "cell_type": "markdown",
   "id": "04ca729c",
   "metadata": {},
   "source": [
    "Retriever"
   ]
  },
  {
   "cell_type": "code",
   "execution_count": 15,
   "id": "5b2c7079",
   "metadata": {},
   "outputs": [
    {
     "data": {
      "text/plain": [
       "[Document(id='35b1a02987a04236bf865804b90e75d8', metadata={'source': 'blog'}, page_content='Python is a popular programming language for data science.')]"
      ]
     },
     "execution_count": 15,
     "metadata": {},
     "output_type": "execute_result"
    }
   ],
   "source": [
    "retriever = vector_store.as_retriever(\n",
    "    search_type=\"similarity_score_threshold\",\n",
    "    search_kwargs={\"k\": 1, \"score_threshold\": 0.5}\n",
    ")\n",
    "\n",
    "retriever.invoke(\"Suggest me a good programming language\", filter={\"source\": \"blog\"})"
   ]
  },
  {
   "cell_type": "code",
   "execution_count": 16,
   "id": "0252c974",
   "metadata": {},
   "outputs": [
    {
     "data": {
      "text/plain": [
       "[Document(id='35b1a02987a04236bf865804b90e75d8', metadata={'source': 'blog'}, page_content='Python is a popular programming language for data science.')]"
      ]
     },
     "execution_count": 16,
     "metadata": {},
     "output_type": "execute_result"
    }
   ],
   "source": [
    "retriever = vector_store.as_retriever(\n",
    "    search_type=\"mmr\",\n",
    "    search_kwargs={\"k\": 1}\n",
    ")\n",
    "\n",
    "retriever.invoke(\"Suggest me a good programming language\", filter={\"source\": \"blog\"})"
   ]
  }
 ],
 "metadata": {
  "kernelspec": {
   "display_name": "RAGUdemy",
   "language": "python",
   "name": "python3"
  },
  "language_info": {
   "codemirror_mode": {
    "name": "ipython",
    "version": 3
   },
   "file_extension": ".py",
   "mimetype": "text/x-python",
   "name": "python",
   "nbconvert_exporter": "python",
   "pygments_lexer": "ipython3",
   "version": "3.11.9"
  }
 },
 "nbformat": 4,
 "nbformat_minor": 5
}
