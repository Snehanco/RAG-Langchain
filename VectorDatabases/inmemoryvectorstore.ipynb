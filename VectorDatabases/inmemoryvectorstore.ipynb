{
 "cells": [
  {
   "cell_type": "markdown",
   "id": "34c33c10",
   "metadata": {},
   "source": [
    "# InMemoryVectorStore\n",
    "\n",
    "In memory vector store implementation.\n",
    "\n",
    "Uses a dictionary, and computes cosine similarity for search using numpy."
   ]
  },
  {
   "cell_type": "code",
   "execution_count": 1,
   "id": "77491bd4",
   "metadata": {},
   "outputs": [
    {
     "name": "stderr",
     "output_type": "stream",
     "text": [
      "d:\\RAG\\RAG-Langchain\\.venv\\Lib\\site-packages\\tqdm\\auto.py:21: TqdmWarning: IProgress not found. Please update jupyter and ipywidgets. See https://ipywidgets.readthedocs.io/en/stable/user_install.html\n",
      "  from .autonotebook import tqdm as notebook_tqdm\n"
     ]
    }
   ],
   "source": [
    "import os\n",
    "from dotenv import load_dotenv\n",
    "load_dotenv()\n",
    "\n",
    "from langchain.chat_models import init_chat_model\n",
    "from langchain_huggingface import HuggingFaceEmbeddings\n",
    "\n",
    "llm = init_chat_model(model=\"groq:openai/gpt-oss-20b\")\n",
    "embeddings = HuggingFaceEmbeddings(model_name=\"sentence-transformers/all-MiniLM-L6-v2\")"
   ]
  },
  {
   "cell_type": "code",
   "execution_count": 2,
   "id": "8ec07433",
   "metadata": {},
   "outputs": [],
   "source": [
    "from langchain_core.vectorstores.in_memory import InMemoryVectorStore\n",
    "\n",
    "vector_store = InMemoryVectorStore(embedding=embeddings)"
   ]
  },
  {
   "cell_type": "code",
   "execution_count": 3,
   "id": "5ce82817",
   "metadata": {},
   "outputs": [],
   "source": [
    "from langchain_core.documents import Document\n",
    "\n",
    "document_1 = Document(page_content=\"I had chocolate chips and scrambled eggs for breakfast this morning.\", metadata={\"source\": \"tweet\"})\n",
    "document_2 = Document(page_content=\"The capital of France is Paris.\", metadata={\"source\": \"wiki\"})\n",
    "document_3 = Document(page_content=\"The Eiffel Tower is located in Paris, France.\", metadata={\"source\": \"wiki\"})\n",
    "document_4 = Document(page_content=\"I love programming in Python!\", metadata={\"source\": \"blog\"})\n",
    "document_5 = Document(page_content=\"The Great Wall of China is one of the Seven Wonders of the World.\", metadata={\"source\": \"wiki\"})\n",
    "document_6 = Document(page_content=\"Artificial Intelligence is transforming the world.\", metadata={\"source\": \"article\"})\n",
    "document_7 = Document(page_content=\"The sun rises in the east and sets in the west.\", metadata={\"source\": \"fact\"})\n",
    "document_8 = Document(page_content=\"Mount Everest is the highest mountain on Earth.\", metadata={\"source\": \"geo\"})\n",
    "document_9 = Document(page_content=\"The Pacific Ocean is the largest ocean on Earth.\", metadata={\"source\": \"geo\"})\n",
    "document_10 = Document(page_content=\"Python is a popular programming language for data science.\", metadata={\"source\": \"blog\"})\n",
    "\n",
    "documents = [document_1, document_2, document_3, document_4, document_5, document_6, document_7, document_8, document_9, document_10]"
   ]
  },
  {
   "cell_type": "code",
   "execution_count": 4,
   "id": "4f670ea3",
   "metadata": {},
   "outputs": [
    {
     "data": {
      "text/plain": [
       "[Document(metadata={'source': 'tweet'}, page_content='I had chocolate chips and scrambled eggs for breakfast this morning.'),\n",
       " Document(metadata={'source': 'wiki'}, page_content='The capital of France is Paris.'),\n",
       " Document(metadata={'source': 'wiki'}, page_content='The Eiffel Tower is located in Paris, France.'),\n",
       " Document(metadata={'source': 'blog'}, page_content='I love programming in Python!'),\n",
       " Document(metadata={'source': 'wiki'}, page_content='The Great Wall of China is one of the Seven Wonders of the World.'),\n",
       " Document(metadata={'source': 'article'}, page_content='Artificial Intelligence is transforming the world.'),\n",
       " Document(metadata={'source': 'fact'}, page_content='The sun rises in the east and sets in the west.'),\n",
       " Document(metadata={'source': 'geo'}, page_content='Mount Everest is the highest mountain on Earth.'),\n",
       " Document(metadata={'source': 'geo'}, page_content='The Pacific Ocean is the largest ocean on Earth.'),\n",
       " Document(metadata={'source': 'blog'}, page_content='Python is a popular programming language for data science.')]"
      ]
     },
     "execution_count": 4,
     "metadata": {},
     "output_type": "execute_result"
    }
   ],
   "source": [
    "documents\n"
   ]
  },
  {
   "cell_type": "code",
   "execution_count": 5,
   "id": "aa26623c",
   "metadata": {},
   "outputs": [
    {
     "data": {
      "text/plain": [
       "['d580d9c5-1358-4cd2-8cfe-5e6844c887a0',\n",
       " '142a7f00-5c7a-40a8-8ea7-9237eb985149',\n",
       " 'c3f9686d-ae5d-4ea2-b0c4-c640d063561c',\n",
       " '40a74732-bcc1-4e08-87ac-a771da56e076',\n",
       " '9bde82a0-0641-4ffc-83e4-b1c65183db88',\n",
       " 'b6cb2d4c-1a4f-4ca5-b95a-28f5e541765a',\n",
       " 'ebb470a3-b76d-4eb0-9640-f1593158922c',\n",
       " '4e15e67d-8227-4acb-a7ab-342d6074d51d',\n",
       " '43766f25-c267-43c9-9549-3951f43843cf',\n",
       " 'c7f26733-20e5-4118-9b5c-dfe68609f861']"
      ]
     },
     "execution_count": 5,
     "metadata": {},
     "output_type": "execute_result"
    }
   ],
   "source": [
    "vector_store.add_documents(documents)"
   ]
  },
  {
   "cell_type": "code",
   "execution_count": 6,
   "id": "d22ded7d",
   "metadata": {},
   "outputs": [
    {
     "data": {
      "text/plain": [
       "[Document(id='d580d9c5-1358-4cd2-8cfe-5e6844c887a0', metadata={'source': 'tweet'}, page_content='I had chocolate chips and scrambled eggs for breakfast this morning.'),\n",
       " Document(id='ebb470a3-b76d-4eb0-9640-f1593158922c', metadata={'source': 'fact'}, page_content='The sun rises in the east and sets in the west.'),\n",
       " Document(id='40a74732-bcc1-4e08-87ac-a771da56e076', metadata={'source': 'blog'}, page_content='I love programming in Python!'),\n",
       " Document(id='c7f26733-20e5-4118-9b5c-dfe68609f861', metadata={'source': 'blog'}, page_content='Python is a popular programming language for data science.')]"
      ]
     },
     "execution_count": 6,
     "metadata": {},
     "output_type": "execute_result"
    }
   ],
   "source": [
    "vector_store.similarity_search(\"What did I have for breakfast?\")"
   ]
  },
  {
   "cell_type": "code",
   "execution_count": 9,
   "id": "0a8fe260",
   "metadata": {},
   "outputs": [
    {
     "data": {
      "text/plain": [
       "[Document(id='c3f9686d-ae5d-4ea2-b0c4-c640d063561c', metadata={'source': 'wiki'}, page_content='The Eiffel Tower is located in Paris, France.'),\n",
       " Document(id='9bde82a0-0641-4ffc-83e4-b1c65183db88', metadata={'source': 'wiki'}, page_content='The Great Wall of China is one of the Seven Wonders of the World.')]"
      ]
     },
     "execution_count": 9,
     "metadata": {},
     "output_type": "execute_result"
    }
   ],
   "source": [
    "vector_store.similarity_search(\"Where is Ifail Tower?\", k=2)"
   ]
  },
  {
   "cell_type": "code",
   "execution_count": 10,
   "id": "cdb8a193",
   "metadata": {},
   "outputs": [
    {
     "data": {
      "text/plain": [
       "VectorStoreRetriever(tags=['InMemoryVectorStore', 'HuggingFaceEmbeddings'], vectorstore=<langchain_core.vectorstores.in_memory.InMemoryVectorStore object at 0x00000260DCCF55D0>, search_kwargs={})"
      ]
     },
     "execution_count": 10,
     "metadata": {},
     "output_type": "execute_result"
    }
   ],
   "source": [
    "retriever = vector_store.as_retriever()\n",
    "\n",
    "retriever"
   ]
  },
  {
   "cell_type": "code",
   "execution_count": 12,
   "id": "b65ea7f0",
   "metadata": {},
   "outputs": [
    {
     "data": {
      "text/plain": [
       "[Document(id='142a7f00-5c7a-40a8-8ea7-9237eb985149', metadata={'source': 'wiki'}, page_content='The capital of France is Paris.'),\n",
       " Document(id='c3f9686d-ae5d-4ea2-b0c4-c640d063561c', metadata={'source': 'wiki'}, page_content='The Eiffel Tower is located in Paris, France.'),\n",
       " Document(id='9bde82a0-0641-4ffc-83e4-b1c65183db88', metadata={'source': 'wiki'}, page_content='The Great Wall of China is one of the Seven Wonders of the World.'),\n",
       " Document(id='ebb470a3-b76d-4eb0-9640-f1593158922c', metadata={'source': 'fact'}, page_content='The sun rises in the east and sets in the west.')]"
      ]
     },
     "execution_count": 12,
     "metadata": {},
     "output_type": "execute_result"
    }
   ],
   "source": [
    "retriever.invoke(\"Capital of France?\")"
   ]
  }
 ],
 "metadata": {
  "kernelspec": {
   "display_name": "RAGUdemy",
   "language": "python",
   "name": "python3"
  },
  "language_info": {
   "codemirror_mode": {
    "name": "ipython",
    "version": 3
   },
   "file_extension": ".py",
   "mimetype": "text/x-python",
   "name": "python",
   "nbconvert_exporter": "python",
   "pygments_lexer": "ipython3",
   "version": "3.11.9"
  }
 },
 "nbformat": 4,
 "nbformat_minor": 5
}
